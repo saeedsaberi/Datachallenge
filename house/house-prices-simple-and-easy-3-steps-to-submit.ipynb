{
 "cells": [
  {
   "cell_type": "markdown",
   "metadata": {
    "papermill": {
     "duration": 0.041547,
     "end_time": "2020-11-02T17:26:16.947790",
     "exception": false,
     "start_time": "2020-11-02T17:26:16.906243",
     "status": "completed"
    },
    "tags": []
   },
   "source": [
    "# <u>House Prices: Simple and elegant way of predicting house price</u>\n",
    "This notebook will guide you through effective steps to submit."
   ]
  },
  {
   "cell_type": "markdown",
   "metadata": {
    "papermill": {
     "duration": 0.038095,
     "end_time": "2020-11-02T17:26:17.023988",
     "exception": false,
     "start_time": "2020-11-02T17:26:16.985893",
     "status": "completed"
    },
    "tags": []
   },
   "source": [
    "* [1. Preparations](#1)\n",
    "    * [1.1 Import libraries](#1.1)\n",
    "    * [1.2 Load dataset](#1.2)\n",
    "    * [1.3 Check data](#1.3)\n",
    "    * [1.4 Combine train and test](#1.4)\n",
    "* [2. Feature Engineering](#2)\n",
    "    * [2.1 Transform numeric into logarithms](#2.1)\n",
    "    * [2.2 Transform categorical into one-hot vector](#2.2)\n",
    "* [3. Prediction and submission](#3)\n",
    "    * [3.1 Format data](#3.1)\n",
    "    * [3.2 Prediction](#3.2)\n",
    "    * [3.3 Create submission](#3.3)"
   ]
  },
  {
   "cell_type": "markdown",
   "metadata": {
    "papermill": {
     "duration": 0.037696,
     "end_time": "2020-11-02T17:26:17.098549",
     "exception": false,
     "start_time": "2020-11-02T17:26:17.060853",
     "status": "completed"
    },
    "tags": []
   },
   "source": [
    "<a id=\"1\"></a><h1 style='background:slateblue; border:.; color:white'><center>1. Preparations</center></h1>"
   ]
  },
  {
   "cell_type": "markdown",
   "metadata": {
    "papermill": {
     "duration": 0.036699,
     "end_time": "2020-11-02T17:26:17.172236",
     "exception": false,
     "start_time": "2020-11-02T17:26:17.135537",
     "status": "completed"
    },
    "tags": []
   },
   "source": [
    "## 1.1 Import libraries<a id=\"1.1\"></a>\n",
    "**Import all required libraries**"
   ]
  },
  {
   "cell_type": "code",
   "execution_count": 1,
   "metadata": {
    "_cell_guid": "79c7e3d0-c299-4dcb-8224-4455121ee9b0",
    "_uuid": "d629ff2d2480ee46fbb7e2d37f6b5fab8052498a",
    "execution": {
     "iopub.execute_input": "2020-11-02T17:26:17.256053Z",
     "iopub.status.busy": "2020-11-02T17:26:17.255247Z",
     "iopub.status.idle": "2020-11-02T17:26:18.489501Z",
     "shell.execute_reply": "2020-11-02T17:26:18.490103Z"
    },
    "papermill": {
     "duration": 1.278392,
     "end_time": "2020-11-02T17:26:18.490316",
     "exception": false,
     "start_time": "2020-11-02T17:26:17.211924",
     "status": "completed"
    },
    "tags": []
   },
   "outputs": [],
   "source": [
    "import numpy as np\n",
    "import pandas as pd\n",
    "import matplotlib.pyplot as plt\n",
    "import seaborn as sns\n",
    "from scipy.stats import skew\n",
    "from sklearn.preprocessing import LabelEncoder\n",
    "import lightgbm as lgb"
   ]
  },
  {
   "cell_type": "markdown",
   "metadata": {
    "papermill": {
     "duration": 0.039796,
     "end_time": "2020-11-02T17:26:18.569519",
     "exception": false,
     "start_time": "2020-11-02T17:26:18.529723",
     "status": "completed"
    },
    "tags": []
   },
   "source": [
    "## 1.2 Load dataset<a id=\"1.2\"></a>\n",
    "**Load each data as a Pandas DataFrame**"
   ]
  },
  {
   "cell_type": "code",
   "execution_count": 2,
   "metadata": {
    "execution": {
     "iopub.execute_input": "2020-11-02T17:26:18.650735Z",
     "iopub.status.busy": "2020-11-02T17:26:18.649921Z",
     "iopub.status.idle": "2020-11-02T17:26:18.677068Z",
     "shell.execute_reply": "2020-11-02T17:26:18.677715Z"
    },
    "papermill": {
     "duration": 0.070765,
     "end_time": "2020-11-02T17:26:18.677882",
     "exception": false,
     "start_time": "2020-11-02T17:26:18.607117",
     "status": "completed"
    },
    "tags": []
   },
   "outputs": [
    {
     "data": {
      "text/html": [
       "<div>\n",
       "<style scoped>\n",
       "    .dataframe tbody tr th:only-of-type {\n",
       "        vertical-align: middle;\n",
       "    }\n",
       "\n",
       "    .dataframe tbody tr th {\n",
       "        vertical-align: top;\n",
       "    }\n",
       "\n",
       "    .dataframe thead th {\n",
       "        text-align: right;\n",
       "    }\n",
       "</style>\n",
       "<table border=\"1\" class=\"dataframe\">\n",
       "  <thead>\n",
       "    <tr style=\"text-align: right;\">\n",
       "      <th></th>\n",
       "      <th>Id</th>\n",
       "      <th>SalePrice</th>\n",
       "    </tr>\n",
       "  </thead>\n",
       "  <tbody>\n",
       "    <tr>\n",
       "      <th>0</th>\n",
       "      <td>1461</td>\n",
       "      <td>169277.052498</td>\n",
       "    </tr>\n",
       "    <tr>\n",
       "      <th>1</th>\n",
       "      <td>1462</td>\n",
       "      <td>187758.393989</td>\n",
       "    </tr>\n",
       "    <tr>\n",
       "      <th>2</th>\n",
       "      <td>1463</td>\n",
       "      <td>183583.683570</td>\n",
       "    </tr>\n",
       "    <tr>\n",
       "      <th>3</th>\n",
       "      <td>1464</td>\n",
       "      <td>179317.477511</td>\n",
       "    </tr>\n",
       "    <tr>\n",
       "      <th>4</th>\n",
       "      <td>1465</td>\n",
       "      <td>150730.079977</td>\n",
       "    </tr>\n",
       "  </tbody>\n",
       "</table>\n",
       "</div>"
      ],
      "text/plain": [
       "     Id      SalePrice\n",
       "0  1461  169277.052498\n",
       "1  1462  187758.393989\n",
       "2  1463  183583.683570\n",
       "3  1464  179317.477511\n",
       "4  1465  150730.079977"
      ]
     },
     "execution_count": 2,
     "metadata": {},
     "output_type": "execute_result"
    }
   ],
   "source": [
    "submission = pd.read_csv('/kaggle/input/house-prices-advanced-regression-techniques/sample_submission.csv')\n",
    "submission.head()"
   ]
  },
  {
   "cell_type": "code",
   "execution_count": 3,
   "metadata": {
    "execution": {
     "iopub.execute_input": "2020-11-02T17:26:18.762138Z",
     "iopub.status.busy": "2020-11-02T17:26:18.761321Z",
     "iopub.status.idle": "2020-11-02T17:26:18.828272Z",
     "shell.execute_reply": "2020-11-02T17:26:18.827642Z"
    },
    "papermill": {
     "duration": 0.111318,
     "end_time": "2020-11-02T17:26:18.828427",
     "exception": false,
     "start_time": "2020-11-02T17:26:18.717109",
     "status": "completed"
    },
    "tags": []
   },
   "outputs": [
    {
     "data": {
      "text/html": [
       "<div>\n",
       "<style scoped>\n",
       "    .dataframe tbody tr th:only-of-type {\n",
       "        vertical-align: middle;\n",
       "    }\n",
       "\n",
       "    .dataframe tbody tr th {\n",
       "        vertical-align: top;\n",
       "    }\n",
       "\n",
       "    .dataframe thead th {\n",
       "        text-align: right;\n",
       "    }\n",
       "</style>\n",
       "<table border=\"1\" class=\"dataframe\">\n",
       "  <thead>\n",
       "    <tr style=\"text-align: right;\">\n",
       "      <th></th>\n",
       "      <th>Id</th>\n",
       "      <th>MSSubClass</th>\n",
       "      <th>MSZoning</th>\n",
       "      <th>LotFrontage</th>\n",
       "      <th>LotArea</th>\n",
       "      <th>Street</th>\n",
       "      <th>Alley</th>\n",
       "      <th>LotShape</th>\n",
       "      <th>LandContour</th>\n",
       "      <th>Utilities</th>\n",
       "      <th>...</th>\n",
       "      <th>PoolArea</th>\n",
       "      <th>PoolQC</th>\n",
       "      <th>Fence</th>\n",
       "      <th>MiscFeature</th>\n",
       "      <th>MiscVal</th>\n",
       "      <th>MoSold</th>\n",
       "      <th>YrSold</th>\n",
       "      <th>SaleType</th>\n",
       "      <th>SaleCondition</th>\n",
       "      <th>SalePrice</th>\n",
       "    </tr>\n",
       "  </thead>\n",
       "  <tbody>\n",
       "    <tr>\n",
       "      <th>0</th>\n",
       "      <td>1</td>\n",
       "      <td>60</td>\n",
       "      <td>RL</td>\n",
       "      <td>65.0</td>\n",
       "      <td>8450</td>\n",
       "      <td>Pave</td>\n",
       "      <td>NaN</td>\n",
       "      <td>Reg</td>\n",
       "      <td>Lvl</td>\n",
       "      <td>AllPub</td>\n",
       "      <td>...</td>\n",
       "      <td>0</td>\n",
       "      <td>NaN</td>\n",
       "      <td>NaN</td>\n",
       "      <td>NaN</td>\n",
       "      <td>0</td>\n",
       "      <td>2</td>\n",
       "      <td>2008</td>\n",
       "      <td>WD</td>\n",
       "      <td>Normal</td>\n",
       "      <td>208500</td>\n",
       "    </tr>\n",
       "    <tr>\n",
       "      <th>1</th>\n",
       "      <td>2</td>\n",
       "      <td>20</td>\n",
       "      <td>RL</td>\n",
       "      <td>80.0</td>\n",
       "      <td>9600</td>\n",
       "      <td>Pave</td>\n",
       "      <td>NaN</td>\n",
       "      <td>Reg</td>\n",
       "      <td>Lvl</td>\n",
       "      <td>AllPub</td>\n",
       "      <td>...</td>\n",
       "      <td>0</td>\n",
       "      <td>NaN</td>\n",
       "      <td>NaN</td>\n",
       "      <td>NaN</td>\n",
       "      <td>0</td>\n",
       "      <td>5</td>\n",
       "      <td>2007</td>\n",
       "      <td>WD</td>\n",
       "      <td>Normal</td>\n",
       "      <td>181500</td>\n",
       "    </tr>\n",
       "    <tr>\n",
       "      <th>2</th>\n",
       "      <td>3</td>\n",
       "      <td>60</td>\n",
       "      <td>RL</td>\n",
       "      <td>68.0</td>\n",
       "      <td>11250</td>\n",
       "      <td>Pave</td>\n",
       "      <td>NaN</td>\n",
       "      <td>IR1</td>\n",
       "      <td>Lvl</td>\n",
       "      <td>AllPub</td>\n",
       "      <td>...</td>\n",
       "      <td>0</td>\n",
       "      <td>NaN</td>\n",
       "      <td>NaN</td>\n",
       "      <td>NaN</td>\n",
       "      <td>0</td>\n",
       "      <td>9</td>\n",
       "      <td>2008</td>\n",
       "      <td>WD</td>\n",
       "      <td>Normal</td>\n",
       "      <td>223500</td>\n",
       "    </tr>\n",
       "    <tr>\n",
       "      <th>3</th>\n",
       "      <td>4</td>\n",
       "      <td>70</td>\n",
       "      <td>RL</td>\n",
       "      <td>60.0</td>\n",
       "      <td>9550</td>\n",
       "      <td>Pave</td>\n",
       "      <td>NaN</td>\n",
       "      <td>IR1</td>\n",
       "      <td>Lvl</td>\n",
       "      <td>AllPub</td>\n",
       "      <td>...</td>\n",
       "      <td>0</td>\n",
       "      <td>NaN</td>\n",
       "      <td>NaN</td>\n",
       "      <td>NaN</td>\n",
       "      <td>0</td>\n",
       "      <td>2</td>\n",
       "      <td>2006</td>\n",
       "      <td>WD</td>\n",
       "      <td>Abnorml</td>\n",
       "      <td>140000</td>\n",
       "    </tr>\n",
       "    <tr>\n",
       "      <th>4</th>\n",
       "      <td>5</td>\n",
       "      <td>60</td>\n",
       "      <td>RL</td>\n",
       "      <td>84.0</td>\n",
       "      <td>14260</td>\n",
       "      <td>Pave</td>\n",
       "      <td>NaN</td>\n",
       "      <td>IR1</td>\n",
       "      <td>Lvl</td>\n",
       "      <td>AllPub</td>\n",
       "      <td>...</td>\n",
       "      <td>0</td>\n",
       "      <td>NaN</td>\n",
       "      <td>NaN</td>\n",
       "      <td>NaN</td>\n",
       "      <td>0</td>\n",
       "      <td>12</td>\n",
       "      <td>2008</td>\n",
       "      <td>WD</td>\n",
       "      <td>Normal</td>\n",
       "      <td>250000</td>\n",
       "    </tr>\n",
       "  </tbody>\n",
       "</table>\n",
       "<p>5 rows × 81 columns</p>\n",
       "</div>"
      ],
      "text/plain": [
       "   Id  MSSubClass MSZoning  LotFrontage  LotArea Street Alley LotShape  \\\n",
       "0   1          60       RL         65.0     8450   Pave   NaN      Reg   \n",
       "1   2          20       RL         80.0     9600   Pave   NaN      Reg   \n",
       "2   3          60       RL         68.0    11250   Pave   NaN      IR1   \n",
       "3   4          70       RL         60.0     9550   Pave   NaN      IR1   \n",
       "4   5          60       RL         84.0    14260   Pave   NaN      IR1   \n",
       "\n",
       "  LandContour Utilities  ... PoolArea PoolQC Fence MiscFeature MiscVal MoSold  \\\n",
       "0         Lvl    AllPub  ...        0    NaN   NaN         NaN       0      2   \n",
       "1         Lvl    AllPub  ...        0    NaN   NaN         NaN       0      5   \n",
       "2         Lvl    AllPub  ...        0    NaN   NaN         NaN       0      9   \n",
       "3         Lvl    AllPub  ...        0    NaN   NaN         NaN       0      2   \n",
       "4         Lvl    AllPub  ...        0    NaN   NaN         NaN       0     12   \n",
       "\n",
       "  YrSold  SaleType  SaleCondition  SalePrice  \n",
       "0   2008        WD         Normal     208500  \n",
       "1   2007        WD         Normal     181500  \n",
       "2   2008        WD         Normal     223500  \n",
       "3   2006        WD        Abnorml     140000  \n",
       "4   2008        WD         Normal     250000  \n",
       "\n",
       "[5 rows x 81 columns]"
      ]
     },
     "execution_count": 3,
     "metadata": {},
     "output_type": "execute_result"
    }
   ],
   "source": [
    "train = pd.read_csv('/kaggle/input/house-prices-advanced-regression-techniques/train.csv')\n",
    "train.head()"
   ]
  },
  {
   "cell_type": "code",
   "execution_count": 4,
   "metadata": {
    "execution": {
     "iopub.execute_input": "2020-11-02T17:26:18.914485Z",
     "iopub.status.busy": "2020-11-02T17:26:18.913163Z",
     "iopub.status.idle": "2020-11-02T17:26:18.952628Z",
     "shell.execute_reply": "2020-11-02T17:26:18.953634Z"
    },
    "papermill": {
     "duration": 0.085234,
     "end_time": "2020-11-02T17:26:18.953809",
     "exception": false,
     "start_time": "2020-11-02T17:26:18.868575",
     "status": "completed"
    },
    "tags": []
   },
   "outputs": [],
   "source": [
    "test = pd.read_csv('/kaggle/input/house-prices-advanced-regression-techniques/test.csv')\n",
    "test.head()\n",
    "test_id =test.Id"
   ]
  },
  {
   "cell_type": "markdown",
   "metadata": {
    "papermill": {
     "duration": 0.039685,
     "end_time": "2020-11-02T17:26:19.033947",
     "exception": false,
     "start_time": "2020-11-02T17:26:18.994262",
     "status": "completed"
    },
    "tags": []
   },
   "source": [
    "## 1.3 Check data<a id=\"1.3\"></a>\n",
    "**check data shape, count and dtype of each column**"
   ]
  },
  {
   "cell_type": "code",
   "execution_count": 5,
   "metadata": {
    "execution": {
     "iopub.execute_input": "2020-11-02T17:26:19.131949Z",
     "iopub.status.busy": "2020-11-02T17:26:19.131118Z",
     "iopub.status.idle": "2020-11-02T17:26:19.178804Z",
     "shell.execute_reply": "2020-11-02T17:26:19.177456Z"
    },
    "papermill": {
     "duration": 0.102957,
     "end_time": "2020-11-02T17:26:19.178948",
     "exception": false,
     "start_time": "2020-11-02T17:26:19.075991",
     "status": "completed"
    },
    "tags": []
   },
   "outputs": [
    {
     "name": "stdout",
     "output_type": "stream",
     "text": [
      "=========== train infomation ===========\n",
      "<class 'pandas.core.frame.DataFrame'>\n",
      "RangeIndex: 1460 entries, 0 to 1459\n",
      "Data columns (total 81 columns):\n",
      " #   Column         Non-Null Count  Dtype  \n",
      "---  ------         --------------  -----  \n",
      " 0   Id             1460 non-null   int64  \n",
      " 1   MSSubClass     1460 non-null   int64  \n",
      " 2   MSZoning       1460 non-null   object \n",
      " 3   LotFrontage    1201 non-null   float64\n",
      " 4   LotArea        1460 non-null   int64  \n",
      " 5   Street         1460 non-null   object \n",
      " 6   Alley          91 non-null     object \n",
      " 7   LotShape       1460 non-null   object \n",
      " 8   LandContour    1460 non-null   object \n",
      " 9   Utilities      1460 non-null   object \n",
      " 10  LotConfig      1460 non-null   object \n",
      " 11  LandSlope      1460 non-null   object \n",
      " 12  Neighborhood   1460 non-null   object \n",
      " 13  Condition1     1460 non-null   object \n",
      " 14  Condition2     1460 non-null   object \n",
      " 15  BldgType       1460 non-null   object \n",
      " 16  HouseStyle     1460 non-null   object \n",
      " 17  OverallQual    1460 non-null   int64  \n",
      " 18  OverallCond    1460 non-null   int64  \n",
      " 19  YearBuilt      1460 non-null   int64  \n",
      " 20  YearRemodAdd   1460 non-null   int64  \n",
      " 21  RoofStyle      1460 non-null   object \n",
      " 22  RoofMatl       1460 non-null   object \n",
      " 23  Exterior1st    1460 non-null   object \n",
      " 24  Exterior2nd    1460 non-null   object \n",
      " 25  MasVnrType     1452 non-null   object \n",
      " 26  MasVnrArea     1452 non-null   float64\n",
      " 27  ExterQual      1460 non-null   object \n",
      " 28  ExterCond      1460 non-null   object \n",
      " 29  Foundation     1460 non-null   object \n",
      " 30  BsmtQual       1423 non-null   object \n",
      " 31  BsmtCond       1423 non-null   object \n",
      " 32  BsmtExposure   1422 non-null   object \n",
      " 33  BsmtFinType1   1423 non-null   object \n",
      " 34  BsmtFinSF1     1460 non-null   int64  \n",
      " 35  BsmtFinType2   1422 non-null   object \n",
      " 36  BsmtFinSF2     1460 non-null   int64  \n",
      " 37  BsmtUnfSF      1460 non-null   int64  \n",
      " 38  TotalBsmtSF    1460 non-null   int64  \n",
      " 39  Heating        1460 non-null   object \n",
      " 40  HeatingQC      1460 non-null   object \n",
      " 41  CentralAir     1460 non-null   object \n",
      " 42  Electrical     1459 non-null   object \n",
      " 43  1stFlrSF       1460 non-null   int64  \n",
      " 44  2ndFlrSF       1460 non-null   int64  \n",
      " 45  LowQualFinSF   1460 non-null   int64  \n",
      " 46  GrLivArea      1460 non-null   int64  \n",
      " 47  BsmtFullBath   1460 non-null   int64  \n",
      " 48  BsmtHalfBath   1460 non-null   int64  \n",
      " 49  FullBath       1460 non-null   int64  \n",
      " 50  HalfBath       1460 non-null   int64  \n",
      " 51  BedroomAbvGr   1460 non-null   int64  \n",
      " 52  KitchenAbvGr   1460 non-null   int64  \n",
      " 53  KitchenQual    1460 non-null   object \n",
      " 54  TotRmsAbvGrd   1460 non-null   int64  \n",
      " 55  Functional     1460 non-null   object \n",
      " 56  Fireplaces     1460 non-null   int64  \n",
      " 57  FireplaceQu    770 non-null    object \n",
      " 58  GarageType     1379 non-null   object \n",
      " 59  GarageYrBlt    1379 non-null   float64\n",
      " 60  GarageFinish   1379 non-null   object \n",
      " 61  GarageCars     1460 non-null   int64  \n",
      " 62  GarageArea     1460 non-null   int64  \n",
      " 63  GarageQual     1379 non-null   object \n",
      " 64  GarageCond     1379 non-null   object \n",
      " 65  PavedDrive     1460 non-null   object \n",
      " 66  WoodDeckSF     1460 non-null   int64  \n",
      " 67  OpenPorchSF    1460 non-null   int64  \n",
      " 68  EnclosedPorch  1460 non-null   int64  \n",
      " 69  3SsnPorch      1460 non-null   int64  \n",
      " 70  ScreenPorch    1460 non-null   int64  \n",
      " 71  PoolArea       1460 non-null   int64  \n",
      " 72  PoolQC         7 non-null      object \n",
      " 73  Fence          281 non-null    object \n",
      " 74  MiscFeature    54 non-null     object \n",
      " 75  MiscVal        1460 non-null   int64  \n",
      " 76  MoSold         1460 non-null   int64  \n",
      " 77  YrSold         1460 non-null   int64  \n",
      " 78  SaleType       1460 non-null   object \n",
      " 79  SaleCondition  1460 non-null   object \n",
      " 80  SalePrice      1460 non-null   int64  \n",
      "dtypes: float64(3), int64(35), object(43)\n",
      "memory usage: 924.0+ KB\n",
      "\n",
      "\n",
      "=========== test infomation ===========\n",
      "<class 'pandas.core.frame.DataFrame'>\n",
      "RangeIndex: 1459 entries, 0 to 1458\n",
      "Data columns (total 80 columns):\n",
      " #   Column         Non-Null Count  Dtype  \n",
      "---  ------         --------------  -----  \n",
      " 0   Id             1459 non-null   int64  \n",
      " 1   MSSubClass     1459 non-null   int64  \n",
      " 2   MSZoning       1455 non-null   object \n",
      " 3   LotFrontage    1232 non-null   float64\n",
      " 4   LotArea        1459 non-null   int64  \n",
      " 5   Street         1459 non-null   object \n",
      " 6   Alley          107 non-null    object \n",
      " 7   LotShape       1459 non-null   object \n",
      " 8   LandContour    1459 non-null   object \n",
      " 9   Utilities      1457 non-null   object \n",
      " 10  LotConfig      1459 non-null   object \n",
      " 11  LandSlope      1459 non-null   object \n",
      " 12  Neighborhood   1459 non-null   object \n",
      " 13  Condition1     1459 non-null   object \n",
      " 14  Condition2     1459 non-null   object \n",
      " 15  BldgType       1459 non-null   object \n",
      " 16  HouseStyle     1459 non-null   object \n",
      " 17  OverallQual    1459 non-null   int64  \n",
      " 18  OverallCond    1459 non-null   int64  \n",
      " 19  YearBuilt      1459 non-null   int64  \n",
      " 20  YearRemodAdd   1459 non-null   int64  \n",
      " 21  RoofStyle      1459 non-null   object \n",
      " 22  RoofMatl       1459 non-null   object \n",
      " 23  Exterior1st    1458 non-null   object \n",
      " 24  Exterior2nd    1458 non-null   object \n",
      " 25  MasVnrType     1443 non-null   object \n",
      " 26  MasVnrArea     1444 non-null   float64\n",
      " 27  ExterQual      1459 non-null   object \n",
      " 28  ExterCond      1459 non-null   object \n",
      " 29  Foundation     1459 non-null   object \n",
      " 30  BsmtQual       1415 non-null   object \n",
      " 31  BsmtCond       1414 non-null   object \n",
      " 32  BsmtExposure   1415 non-null   object \n",
      " 33  BsmtFinType1   1417 non-null   object \n",
      " 34  BsmtFinSF1     1458 non-null   float64\n",
      " 35  BsmtFinType2   1417 non-null   object \n",
      " 36  BsmtFinSF2     1458 non-null   float64\n",
      " 37  BsmtUnfSF      1458 non-null   float64\n",
      " 38  TotalBsmtSF    1458 non-null   float64\n",
      " 39  Heating        1459 non-null   object \n",
      " 40  HeatingQC      1459 non-null   object \n",
      " 41  CentralAir     1459 non-null   object \n",
      " 42  Electrical     1459 non-null   object \n",
      " 43  1stFlrSF       1459 non-null   int64  \n",
      " 44  2ndFlrSF       1459 non-null   int64  \n",
      " 45  LowQualFinSF   1459 non-null   int64  \n",
      " 46  GrLivArea      1459 non-null   int64  \n",
      " 47  BsmtFullBath   1457 non-null   float64\n",
      " 48  BsmtHalfBath   1457 non-null   float64\n",
      " 49  FullBath       1459 non-null   int64  \n",
      " 50  HalfBath       1459 non-null   int64  \n",
      " 51  BedroomAbvGr   1459 non-null   int64  \n",
      " 52  KitchenAbvGr   1459 non-null   int64  \n",
      " 53  KitchenQual    1458 non-null   object \n",
      " 54  TotRmsAbvGrd   1459 non-null   int64  \n",
      " 55  Functional     1457 non-null   object \n",
      " 56  Fireplaces     1459 non-null   int64  \n",
      " 57  FireplaceQu    729 non-null    object \n",
      " 58  GarageType     1383 non-null   object \n",
      " 59  GarageYrBlt    1381 non-null   float64\n",
      " 60  GarageFinish   1381 non-null   object \n",
      " 61  GarageCars     1458 non-null   float64\n",
      " 62  GarageArea     1458 non-null   float64\n",
      " 63  GarageQual     1381 non-null   object \n",
      " 64  GarageCond     1381 non-null   object \n",
      " 65  PavedDrive     1459 non-null   object \n",
      " 66  WoodDeckSF     1459 non-null   int64  \n",
      " 67  OpenPorchSF    1459 non-null   int64  \n",
      " 68  EnclosedPorch  1459 non-null   int64  \n",
      " 69  3SsnPorch      1459 non-null   int64  \n",
      " 70  ScreenPorch    1459 non-null   int64  \n",
      " 71  PoolArea       1459 non-null   int64  \n",
      " 72  PoolQC         3 non-null      object \n",
      " 73  Fence          290 non-null    object \n",
      " 74  MiscFeature    51 non-null     object \n",
      " 75  MiscVal        1459 non-null   int64  \n",
      " 76  MoSold         1459 non-null   int64  \n",
      " 77  YrSold         1459 non-null   int64  \n",
      " 78  SaleType       1458 non-null   object \n",
      " 79  SaleCondition  1459 non-null   object \n",
      "dtypes: float64(11), int64(26), object(43)\n",
      "memory usage: 912.0+ KB\n"
     ]
    }
   ],
   "source": [
    "print('=========== train infomation ===========')\n",
    "train.info()\n",
    "print('\\n\\n=========== test infomation ===========')\n",
    "test.info()"
   ]
  },
  {
   "cell_type": "markdown",
   "metadata": {
    "papermill": {
     "duration": 0.041558,
     "end_time": "2020-11-02T17:26:19.262215",
     "exception": false,
     "start_time": "2020-11-02T17:26:19.220657",
     "status": "completed"
    },
    "tags": []
   },
   "source": [
    "## 1.4 Combine train and test<a id=\"1.4\"></a>\n",
    "**Combine train and test so that you can do each future operation once**"
   ]
  },
  {
   "cell_type": "code",
   "execution_count": 6,
   "metadata": {
    "execution": {
     "iopub.execute_input": "2020-11-02T17:26:19.362398Z",
     "iopub.status.busy": "2020-11-02T17:26:19.355996Z",
     "iopub.status.idle": "2020-11-02T17:26:19.379124Z",
     "shell.execute_reply": "2020-11-02T17:26:19.378445Z"
    },
    "papermill": {
     "duration": 0.076857,
     "end_time": "2020-11-02T17:26:19.379254",
     "exception": false,
     "start_time": "2020-11-02T17:26:19.302397",
     "status": "completed"
    },
    "tags": []
   },
   "outputs": [
    {
     "data": {
      "text/plain": [
       "(2919, 81)"
      ]
     },
     "execution_count": 6,
     "metadata": {},
     "output_type": "execute_result"
    }
   ],
   "source": [
    "data = pd.concat([train, test])\n",
    "data.shape"
   ]
  },
  {
   "cell_type": "markdown",
   "metadata": {
    "papermill": {
     "duration": 0.041291,
     "end_time": "2020-11-02T17:26:19.464227",
     "exception": false,
     "start_time": "2020-11-02T17:26:19.422936",
     "status": "completed"
    },
    "tags": []
   },
   "source": [
    "## 1.4 fill NA<a id=\"1.4\"></a>\n",
    "use the imputer to fill the NA\n"
   ]
  },
  {
   "cell_type": "code",
   "execution_count": 7,
   "metadata": {
    "execution": {
     "iopub.execute_input": "2020-11-02T17:26:19.556410Z",
     "iopub.status.busy": "2020-11-02T17:26:19.555304Z",
     "iopub.status.idle": "2020-11-02T17:26:19.560360Z",
     "shell.execute_reply": "2020-11-02T17:26:19.561445Z"
    },
    "papermill": {
     "duration": 0.055716,
     "end_time": "2020-11-02T17:26:19.561625",
     "exception": false,
     "start_time": "2020-11-02T17:26:19.505909",
     "status": "completed"
    },
    "tags": []
   },
   "outputs": [
    {
     "data": {
      "text/plain": [
       "(2919, 81)"
      ]
     },
     "execution_count": 7,
     "metadata": {},
     "output_type": "execute_result"
    }
   ],
   "source": [
    "data.shape"
   ]
  },
  {
   "cell_type": "code",
   "execution_count": 8,
   "metadata": {
    "execution": {
     "iopub.execute_input": "2020-11-02T17:26:19.675225Z",
     "iopub.status.busy": "2020-11-02T17:26:19.674202Z",
     "iopub.status.idle": "2020-11-02T17:26:19.683764Z",
     "shell.execute_reply": "2020-11-02T17:26:19.682979Z"
    },
    "papermill": {
     "duration": 0.079549,
     "end_time": "2020-11-02T17:26:19.683904",
     "exception": false,
     "start_time": "2020-11-02T17:26:19.604355",
     "status": "completed"
    },
    "tags": []
   },
   "outputs": [
    {
     "data": {
      "text/plain": [
       "Id                  0\n",
       "MSSubClass          0\n",
       "MSZoning            4\n",
       "LotFrontage       486\n",
       "LotArea             0\n",
       "Street              0\n",
       "Alley            2721\n",
       "LotShape            0\n",
       "LandContour         0\n",
       "Utilities           2\n",
       "LotConfig           0\n",
       "LandSlope           0\n",
       "Neighborhood        0\n",
       "Condition1          0\n",
       "Condition2          0\n",
       "BldgType            0\n",
       "HouseStyle          0\n",
       "OverallQual         0\n",
       "OverallCond         0\n",
       "YearBuilt           0\n",
       "YearRemodAdd        0\n",
       "RoofStyle           0\n",
       "RoofMatl            0\n",
       "Exterior1st         1\n",
       "Exterior2nd         1\n",
       "MasVnrType         24\n",
       "MasVnrArea         23\n",
       "ExterQual           0\n",
       "ExterCond           0\n",
       "Foundation          0\n",
       "BsmtQual           81\n",
       "BsmtCond           82\n",
       "BsmtExposure       82\n",
       "BsmtFinType1       79\n",
       "BsmtFinSF1          1\n",
       "BsmtFinType2       80\n",
       "BsmtFinSF2          1\n",
       "BsmtUnfSF           1\n",
       "TotalBsmtSF         1\n",
       "Heating             0\n",
       "HeatingQC           0\n",
       "CentralAir          0\n",
       "Electrical          1\n",
       "1stFlrSF            0\n",
       "2ndFlrSF            0\n",
       "LowQualFinSF        0\n",
       "GrLivArea           0\n",
       "BsmtFullBath        2\n",
       "BsmtHalfBath        2\n",
       "FullBath            0\n",
       "HalfBath            0\n",
       "BedroomAbvGr        0\n",
       "KitchenAbvGr        0\n",
       "KitchenQual         1\n",
       "TotRmsAbvGrd        0\n",
       "Functional          2\n",
       "Fireplaces          0\n",
       "FireplaceQu      1420\n",
       "GarageType        157\n",
       "GarageYrBlt       159\n",
       "GarageFinish      159\n",
       "GarageCars          1\n",
       "GarageArea          1\n",
       "GarageQual        159\n",
       "GarageCond        159\n",
       "PavedDrive          0\n",
       "WoodDeckSF          0\n",
       "OpenPorchSF         0\n",
       "EnclosedPorch       0\n",
       "3SsnPorch           0\n",
       "ScreenPorch         0\n",
       "PoolArea            0\n",
       "PoolQC           2909\n",
       "Fence            2348\n",
       "MiscFeature      2814\n",
       "MiscVal             0\n",
       "MoSold              0\n",
       "YrSold              0\n",
       "SaleType            1\n",
       "SaleCondition       0\n",
       "SalePrice        1459\n",
       "dtype: int64"
      ]
     },
     "execution_count": 8,
     "metadata": {},
     "output_type": "execute_result"
    }
   ],
   "source": [
    "pd.set_option(\"display.max_rows\", 200)\n",
    "pd.set_option(\"display.max_columns\", 100)\n",
    "pd.set_option(\"display.max_colwidth\", 200)\n",
    "data.isnull().sum(axis = 0)"
   ]
  },
  {
   "cell_type": "markdown",
   "metadata": {
    "papermill": {
     "duration": 0.046505,
     "end_time": "2020-11-02T17:26:19.773616",
     "exception": false,
     "start_time": "2020-11-02T17:26:19.727111",
     "status": "completed"
    },
    "tags": []
   },
   "source": [
    "<a id=\"2\"></a><h1 style='background:slateblue; border:.; color:white'><center>2. Feature Engineering</center></h1>"
   ]
  },
  {
   "cell_type": "markdown",
   "metadata": {
    "papermill": {
     "duration": 0.041678,
     "end_time": "2020-11-02T17:26:19.858668",
     "exception": false,
     "start_time": "2020-11-02T17:26:19.816990",
     "status": "completed"
    },
    "tags": []
   },
   "source": [
    "## 2.1 Transform numeric into logarithms<a id=\"2.1\"></a>\n",
    "**transform all numeric columns of the data frame into logarithms to reduce skewness**<br><br>\n",
    "Approximating to a normal distribution often improves the accuracy of machine learning.<br>Logarithmic conversion reduces the range when the feature scale is large and expands it when the feature scale is small.<br>This often allows you to get closer to a mountainous distribution as if you were crushing a long-tailed distribution."
   ]
  },
  {
   "cell_type": "code",
   "execution_count": 9,
   "metadata": {
    "execution": {
     "iopub.execute_input": "2020-11-02T17:26:19.956563Z",
     "iopub.status.busy": "2020-11-02T17:26:19.955655Z",
     "iopub.status.idle": "2020-11-02T17:26:20.034881Z",
     "shell.execute_reply": "2020-11-02T17:26:20.034057Z"
    },
    "papermill": {
     "duration": 0.129996,
     "end_time": "2020-11-02T17:26:20.035014",
     "exception": false,
     "start_time": "2020-11-02T17:26:19.905018",
     "status": "completed"
    },
    "tags": []
   },
   "outputs": [
    {
     "data": {
      "text/html": [
       "<div>\n",
       "<style scoped>\n",
       "    .dataframe tbody tr th:only-of-type {\n",
       "        vertical-align: middle;\n",
       "    }\n",
       "\n",
       "    .dataframe tbody tr th {\n",
       "        vertical-align: top;\n",
       "    }\n",
       "\n",
       "    .dataframe thead th {\n",
       "        text-align: right;\n",
       "    }\n",
       "</style>\n",
       "<table border=\"1\" class=\"dataframe\">\n",
       "  <thead>\n",
       "    <tr style=\"text-align: right;\">\n",
       "      <th></th>\n",
       "      <th>MSSubClass</th>\n",
       "      <th>LotFrontage</th>\n",
       "      <th>LotArea</th>\n",
       "      <th>OverallQual</th>\n",
       "      <th>OverallCond</th>\n",
       "      <th>YearBuilt</th>\n",
       "      <th>YearRemodAdd</th>\n",
       "      <th>MasVnrArea</th>\n",
       "      <th>BsmtFinSF1</th>\n",
       "      <th>BsmtFinSF2</th>\n",
       "      <th>BsmtUnfSF</th>\n",
       "      <th>TotalBsmtSF</th>\n",
       "      <th>1stFlrSF</th>\n",
       "      <th>2ndFlrSF</th>\n",
       "      <th>LowQualFinSF</th>\n",
       "      <th>GrLivArea</th>\n",
       "      <th>BsmtFullBath</th>\n",
       "      <th>BsmtHalfBath</th>\n",
       "      <th>FullBath</th>\n",
       "      <th>HalfBath</th>\n",
       "      <th>BedroomAbvGr</th>\n",
       "      <th>KitchenAbvGr</th>\n",
       "      <th>TotRmsAbvGrd</th>\n",
       "      <th>Fireplaces</th>\n",
       "      <th>GarageYrBlt</th>\n",
       "      <th>GarageCars</th>\n",
       "      <th>GarageArea</th>\n",
       "      <th>WoodDeckSF</th>\n",
       "      <th>OpenPorchSF</th>\n",
       "      <th>EnclosedPorch</th>\n",
       "      <th>3SsnPorch</th>\n",
       "      <th>ScreenPorch</th>\n",
       "      <th>PoolArea</th>\n",
       "      <th>MiscVal</th>\n",
       "      <th>MoSold</th>\n",
       "      <th>YrSold</th>\n",
       "      <th>SalePrice</th>\n",
       "      <th>value_proposition</th>\n",
       "      <th>finished_basement</th>\n",
       "      <th>garage_value</th>\n",
       "    </tr>\n",
       "  </thead>\n",
       "  <tbody>\n",
       "    <tr>\n",
       "      <th>0</th>\n",
       "      <td>60</td>\n",
       "      <td>65.0</td>\n",
       "      <td>8450</td>\n",
       "      <td>7</td>\n",
       "      <td>5</td>\n",
       "      <td>2003</td>\n",
       "      <td>2003</td>\n",
       "      <td>196.0</td>\n",
       "      <td>706.0</td>\n",
       "      <td>0.0</td>\n",
       "      <td>150.0</td>\n",
       "      <td>856.0</td>\n",
       "      <td>856</td>\n",
       "      <td>854</td>\n",
       "      <td>0</td>\n",
       "      <td>1710</td>\n",
       "      <td>1.0</td>\n",
       "      <td>0.0</td>\n",
       "      <td>2</td>\n",
       "      <td>1</td>\n",
       "      <td>3</td>\n",
       "      <td>1</td>\n",
       "      <td>8</td>\n",
       "      <td>0</td>\n",
       "      <td>2003.0</td>\n",
       "      <td>2.0</td>\n",
       "      <td>548.0</td>\n",
       "      <td>0</td>\n",
       "      <td>61</td>\n",
       "      <td>0</td>\n",
       "      <td>0</td>\n",
       "      <td>0</td>\n",
       "      <td>0</td>\n",
       "      <td>0</td>\n",
       "      <td>2</td>\n",
       "      <td>2008</td>\n",
       "      <td>208500.0</td>\n",
       "      <td>14021</td>\n",
       "      <td>True</td>\n",
       "      <td>4006.0</td>\n",
       "    </tr>\n",
       "    <tr>\n",
       "      <th>1</th>\n",
       "      <td>20</td>\n",
       "      <td>80.0</td>\n",
       "      <td>9600</td>\n",
       "      <td>6</td>\n",
       "      <td>8</td>\n",
       "      <td>1976</td>\n",
       "      <td>1976</td>\n",
       "      <td>0.0</td>\n",
       "      <td>978.0</td>\n",
       "      <td>0.0</td>\n",
       "      <td>284.0</td>\n",
       "      <td>1262.0</td>\n",
       "      <td>1262</td>\n",
       "      <td>0</td>\n",
       "      <td>0</td>\n",
       "      <td>1262</td>\n",
       "      <td>0.0</td>\n",
       "      <td>1.0</td>\n",
       "      <td>2</td>\n",
       "      <td>0</td>\n",
       "      <td>3</td>\n",
       "      <td>1</td>\n",
       "      <td>6</td>\n",
       "      <td>1</td>\n",
       "      <td>1976.0</td>\n",
       "      <td>2.0</td>\n",
       "      <td>460.0</td>\n",
       "      <td>298</td>\n",
       "      <td>0</td>\n",
       "      <td>0</td>\n",
       "      <td>0</td>\n",
       "      <td>0</td>\n",
       "      <td>0</td>\n",
       "      <td>0</td>\n",
       "      <td>5</td>\n",
       "      <td>2007</td>\n",
       "      <td>181500.0</td>\n",
       "      <td>11856</td>\n",
       "      <td>True</td>\n",
       "      <td>3952.0</td>\n",
       "    </tr>\n",
       "    <tr>\n",
       "      <th>2</th>\n",
       "      <td>60</td>\n",
       "      <td>68.0</td>\n",
       "      <td>11250</td>\n",
       "      <td>7</td>\n",
       "      <td>5</td>\n",
       "      <td>2001</td>\n",
       "      <td>2002</td>\n",
       "      <td>162.0</td>\n",
       "      <td>486.0</td>\n",
       "      <td>0.0</td>\n",
       "      <td>434.0</td>\n",
       "      <td>920.0</td>\n",
       "      <td>920</td>\n",
       "      <td>866</td>\n",
       "      <td>0</td>\n",
       "      <td>1786</td>\n",
       "      <td>1.0</td>\n",
       "      <td>0.0</td>\n",
       "      <td>2</td>\n",
       "      <td>1</td>\n",
       "      <td>3</td>\n",
       "      <td>1</td>\n",
       "      <td>6</td>\n",
       "      <td>1</td>\n",
       "      <td>2001.0</td>\n",
       "      <td>2.0</td>\n",
       "      <td>608.0</td>\n",
       "      <td>0</td>\n",
       "      <td>42</td>\n",
       "      <td>0</td>\n",
       "      <td>0</td>\n",
       "      <td>0</td>\n",
       "      <td>0</td>\n",
       "      <td>0</td>\n",
       "      <td>9</td>\n",
       "      <td>2008</td>\n",
       "      <td>223500.0</td>\n",
       "      <td>14007</td>\n",
       "      <td>True</td>\n",
       "      <td>4002.0</td>\n",
       "    </tr>\n",
       "    <tr>\n",
       "      <th>3</th>\n",
       "      <td>70</td>\n",
       "      <td>60.0</td>\n",
       "      <td>9550</td>\n",
       "      <td>7</td>\n",
       "      <td>5</td>\n",
       "      <td>1915</td>\n",
       "      <td>1970</td>\n",
       "      <td>0.0</td>\n",
       "      <td>216.0</td>\n",
       "      <td>0.0</td>\n",
       "      <td>540.0</td>\n",
       "      <td>756.0</td>\n",
       "      <td>961</td>\n",
       "      <td>756</td>\n",
       "      <td>0</td>\n",
       "      <td>1717</td>\n",
       "      <td>1.0</td>\n",
       "      <td>0.0</td>\n",
       "      <td>1</td>\n",
       "      <td>0</td>\n",
       "      <td>3</td>\n",
       "      <td>1</td>\n",
       "      <td>7</td>\n",
       "      <td>1</td>\n",
       "      <td>1998.0</td>\n",
       "      <td>3.0</td>\n",
       "      <td>642.0</td>\n",
       "      <td>0</td>\n",
       "      <td>35</td>\n",
       "      <td>272</td>\n",
       "      <td>0</td>\n",
       "      <td>0</td>\n",
       "      <td>0</td>\n",
       "      <td>0</td>\n",
       "      <td>2</td>\n",
       "      <td>2006</td>\n",
       "      <td>140000.0</td>\n",
       "      <td>13405</td>\n",
       "      <td>True</td>\n",
       "      <td>5745.0</td>\n",
       "    </tr>\n",
       "    <tr>\n",
       "      <th>4</th>\n",
       "      <td>60</td>\n",
       "      <td>84.0</td>\n",
       "      <td>14260</td>\n",
       "      <td>8</td>\n",
       "      <td>5</td>\n",
       "      <td>2000</td>\n",
       "      <td>2000</td>\n",
       "      <td>350.0</td>\n",
       "      <td>655.0</td>\n",
       "      <td>0.0</td>\n",
       "      <td>490.0</td>\n",
       "      <td>1145.0</td>\n",
       "      <td>1145</td>\n",
       "      <td>1053</td>\n",
       "      <td>0</td>\n",
       "      <td>2198</td>\n",
       "      <td>1.0</td>\n",
       "      <td>0.0</td>\n",
       "      <td>2</td>\n",
       "      <td>1</td>\n",
       "      <td>4</td>\n",
       "      <td>1</td>\n",
       "      <td>9</td>\n",
       "      <td>1</td>\n",
       "      <td>2000.0</td>\n",
       "      <td>3.0</td>\n",
       "      <td>836.0</td>\n",
       "      <td>192</td>\n",
       "      <td>84</td>\n",
       "      <td>0</td>\n",
       "      <td>0</td>\n",
       "      <td>0</td>\n",
       "      <td>0</td>\n",
       "      <td>0</td>\n",
       "      <td>12</td>\n",
       "      <td>2008</td>\n",
       "      <td>250000.0</td>\n",
       "      <td>16000</td>\n",
       "      <td>True</td>\n",
       "      <td>6000.0</td>\n",
       "    </tr>\n",
       "  </tbody>\n",
       "</table>\n",
       "</div>"
      ],
      "text/plain": [
       "   MSSubClass  LotFrontage  LotArea  OverallQual  OverallCond  YearBuilt  \\\n",
       "0          60         65.0     8450            7            5       2003   \n",
       "1          20         80.0     9600            6            8       1976   \n",
       "2          60         68.0    11250            7            5       2001   \n",
       "3          70         60.0     9550            7            5       1915   \n",
       "4          60         84.0    14260            8            5       2000   \n",
       "\n",
       "   YearRemodAdd  MasVnrArea  BsmtFinSF1  BsmtFinSF2  BsmtUnfSF  TotalBsmtSF  \\\n",
       "0          2003       196.0       706.0         0.0      150.0        856.0   \n",
       "1          1976         0.0       978.0         0.0      284.0       1262.0   \n",
       "2          2002       162.0       486.0         0.0      434.0        920.0   \n",
       "3          1970         0.0       216.0         0.0      540.0        756.0   \n",
       "4          2000       350.0       655.0         0.0      490.0       1145.0   \n",
       "\n",
       "   1stFlrSF  2ndFlrSF  LowQualFinSF  GrLivArea  BsmtFullBath  BsmtHalfBath  \\\n",
       "0       856       854             0       1710           1.0           0.0   \n",
       "1      1262         0             0       1262           0.0           1.0   \n",
       "2       920       866             0       1786           1.0           0.0   \n",
       "3       961       756             0       1717           1.0           0.0   \n",
       "4      1145      1053             0       2198           1.0           0.0   \n",
       "\n",
       "   FullBath  HalfBath  BedroomAbvGr  KitchenAbvGr  TotRmsAbvGrd  Fireplaces  \\\n",
       "0         2         1             3             1             8           0   \n",
       "1         2         0             3             1             6           1   \n",
       "2         2         1             3             1             6           1   \n",
       "3         1         0             3             1             7           1   \n",
       "4         2         1             4             1             9           1   \n",
       "\n",
       "   GarageYrBlt  GarageCars  GarageArea  WoodDeckSF  OpenPorchSF  \\\n",
       "0       2003.0         2.0       548.0           0           61   \n",
       "1       1976.0         2.0       460.0         298            0   \n",
       "2       2001.0         2.0       608.0           0           42   \n",
       "3       1998.0         3.0       642.0           0           35   \n",
       "4       2000.0         3.0       836.0         192           84   \n",
       "\n",
       "   EnclosedPorch  3SsnPorch  ScreenPorch  PoolArea  MiscVal  MoSold  YrSold  \\\n",
       "0              0          0            0         0        0       2    2008   \n",
       "1              0          0            0         0        0       5    2007   \n",
       "2              0          0            0         0        0       9    2008   \n",
       "3            272          0            0         0        0       2    2006   \n",
       "4              0          0            0         0        0      12    2008   \n",
       "\n",
       "   SalePrice  value_proposition  finished_basement  garage_value  \n",
       "0   208500.0              14021               True        4006.0  \n",
       "1   181500.0              11856               True        3952.0  \n",
       "2   223500.0              14007               True        4002.0  \n",
       "3   140000.0              13405               True        5745.0  \n",
       "4   250000.0              16000               True        6000.0  "
      ]
     },
     "execution_count": 9,
     "metadata": {},
     "output_type": "execute_result"
    }
   ],
   "source": [
    "# current numeric data\n",
    "numerics = data.loc[:,data.dtypes != 'object'].drop('Id', axis=1)\n",
    "numerics['value_proposition'] = numerics['YearBuilt'] * numerics['OverallQual']\n",
    "numerics['finished_basement'] = numerics['BsmtFinSF1'] > 0\n",
    "numerics['garage_value'] = numerics['YearBuilt'] * numerics['GarageCars']\n",
    "numerics.head()"
   ]
  },
  {
   "cell_type": "code",
   "execution_count": 10,
   "metadata": {
    "execution": {
     "iopub.execute_input": "2020-11-02T17:26:20.156095Z",
     "iopub.status.busy": "2020-11-02T17:26:20.155221Z",
     "iopub.status.idle": "2020-11-02T17:26:20.166074Z",
     "shell.execute_reply": "2020-11-02T17:26:20.165181Z"
    },
    "papermill": {
     "duration": 0.072474,
     "end_time": "2020-11-02T17:26:20.166210",
     "exception": false,
     "start_time": "2020-11-02T17:26:20.093736",
     "status": "completed"
    },
    "tags": []
   },
   "outputs": [
    {
     "data": {
      "text/plain": [
       "MSSubClass             0\n",
       "LotFrontage          486\n",
       "LotArea                0\n",
       "OverallQual            0\n",
       "OverallCond            0\n",
       "YearBuilt              0\n",
       "YearRemodAdd           0\n",
       "MasVnrArea            23\n",
       "BsmtFinSF1             1\n",
       "BsmtFinSF2             1\n",
       "BsmtUnfSF              1\n",
       "TotalBsmtSF            1\n",
       "1stFlrSF               0\n",
       "2ndFlrSF               0\n",
       "LowQualFinSF           0\n",
       "GrLivArea              0\n",
       "BsmtFullBath           2\n",
       "BsmtHalfBath           2\n",
       "FullBath               0\n",
       "HalfBath               0\n",
       "BedroomAbvGr           0\n",
       "KitchenAbvGr           0\n",
       "TotRmsAbvGrd           0\n",
       "Fireplaces             0\n",
       "GarageYrBlt          159\n",
       "GarageCars             1\n",
       "GarageArea             1\n",
       "WoodDeckSF             0\n",
       "OpenPorchSF            0\n",
       "EnclosedPorch          0\n",
       "3SsnPorch              0\n",
       "ScreenPorch            0\n",
       "PoolArea               0\n",
       "MiscVal                0\n",
       "MoSold                 0\n",
       "YrSold                 0\n",
       "value_proposition      0\n",
       "finished_basement      0\n",
       "garage_value           1\n",
       "dtype: int64"
      ]
     },
     "execution_count": 10,
     "metadata": {},
     "output_type": "execute_result"
    }
   ],
   "source": [
    "tmp = numerics.drop('SalePrice', axis = 1)\n",
    "tmp.isnull().sum(axis = 0)"
   ]
  },
  {
   "cell_type": "code",
   "execution_count": 11,
   "metadata": {
    "execution": {
     "iopub.execute_input": "2020-11-02T17:26:20.267931Z",
     "iopub.status.busy": "2020-11-02T17:26:20.266911Z",
     "iopub.status.idle": "2020-11-02T17:26:20.523883Z",
     "shell.execute_reply": "2020-11-02T17:26:20.523087Z"
    },
    "papermill": {
     "duration": 0.313069,
     "end_time": "2020-11-02T17:26:20.524011",
     "exception": false,
     "start_time": "2020-11-02T17:26:20.210942",
     "status": "completed"
    },
    "tags": []
   },
   "outputs": [
    {
     "data": {
      "text/plain": [
       "MSSubClass           0\n",
       "LotFrontage          0\n",
       "LotArea              0\n",
       "OverallQual          0\n",
       "OverallCond          0\n",
       "YearBuilt            0\n",
       "YearRemodAdd         0\n",
       "MasVnrArea           0\n",
       "BsmtFinSF1           0\n",
       "BsmtFinSF2           0\n",
       "BsmtUnfSF            0\n",
       "TotalBsmtSF          0\n",
       "1stFlrSF             0\n",
       "2ndFlrSF             0\n",
       "LowQualFinSF         0\n",
       "GrLivArea            0\n",
       "BsmtFullBath         0\n",
       "BsmtHalfBath         0\n",
       "FullBath             0\n",
       "HalfBath             0\n",
       "BedroomAbvGr         0\n",
       "KitchenAbvGr         0\n",
       "TotRmsAbvGrd         0\n",
       "Fireplaces           0\n",
       "GarageYrBlt          0\n",
       "GarageCars           0\n",
       "GarageArea           0\n",
       "WoodDeckSF           0\n",
       "OpenPorchSF          0\n",
       "EnclosedPorch        0\n",
       "3SsnPorch            0\n",
       "ScreenPorch          0\n",
       "PoolArea             0\n",
       "MiscVal              0\n",
       "MoSold               0\n",
       "YrSold               0\n",
       "value_proposition    0\n",
       "finished_basement    0\n",
       "garage_value         0\n",
       "dtype: int64"
      ]
     },
     "execution_count": 11,
     "metadata": {},
     "output_type": "execute_result"
    }
   ],
   "source": [
    "from sklearn.impute import SimpleImputer\n",
    "\n",
    "imp_mean = SimpleImputer(missing_values=np.nan, strategy='median')\n",
    "imp_mean.fit(tmp)\n",
    "tmp[tmp.columns] = imp_mean.transform(tmp)\n",
    "tmp.isnull().sum(axis = 0)"
   ]
  },
  {
   "cell_type": "code",
   "execution_count": 12,
   "metadata": {
    "execution": {
     "iopub.execute_input": "2020-11-02T17:26:20.626019Z",
     "iopub.status.busy": "2020-11-02T17:26:20.625106Z",
     "iopub.status.idle": "2020-11-02T17:26:20.638986Z",
     "shell.execute_reply": "2020-11-02T17:26:20.638186Z"
    },
    "papermill": {
     "duration": 0.067542,
     "end_time": "2020-11-02T17:26:20.639123",
     "exception": false,
     "start_time": "2020-11-02T17:26:20.571581",
     "status": "completed"
    },
    "tags": []
   },
   "outputs": [],
   "source": [
    "numerics[numerics.drop('SalePrice', axis = 1).columns] = tmp"
   ]
  },
  {
   "cell_type": "code",
   "execution_count": 13,
   "metadata": {
    "execution": {
     "iopub.execute_input": "2020-11-02T17:26:20.738865Z",
     "iopub.status.busy": "2020-11-02T17:26:20.738035Z",
     "iopub.status.idle": "2020-11-02T17:26:20.786184Z",
     "shell.execute_reply": "2020-11-02T17:26:20.786753Z"
    },
    "papermill": {
     "duration": 0.102171,
     "end_time": "2020-11-02T17:26:20.786921",
     "exception": false,
     "start_time": "2020-11-02T17:26:20.684750",
     "status": "completed"
    },
    "tags": []
   },
   "outputs": [
    {
     "data": {
      "text/html": [
       "<div>\n",
       "<style scoped>\n",
       "    .dataframe tbody tr th:only-of-type {\n",
       "        vertical-align: middle;\n",
       "    }\n",
       "\n",
       "    .dataframe tbody tr th {\n",
       "        vertical-align: top;\n",
       "    }\n",
       "\n",
       "    .dataframe thead th {\n",
       "        text-align: right;\n",
       "    }\n",
       "</style>\n",
       "<table border=\"1\" class=\"dataframe\">\n",
       "  <thead>\n",
       "    <tr style=\"text-align: right;\">\n",
       "      <th></th>\n",
       "      <th>MSSubClass</th>\n",
       "      <th>LotFrontage</th>\n",
       "      <th>LotArea</th>\n",
       "      <th>OverallQual</th>\n",
       "      <th>OverallCond</th>\n",
       "      <th>YearBuilt</th>\n",
       "      <th>YearRemodAdd</th>\n",
       "      <th>MasVnrArea</th>\n",
       "      <th>BsmtFinSF1</th>\n",
       "      <th>BsmtFinSF2</th>\n",
       "      <th>BsmtUnfSF</th>\n",
       "      <th>TotalBsmtSF</th>\n",
       "      <th>1stFlrSF</th>\n",
       "      <th>2ndFlrSF</th>\n",
       "      <th>LowQualFinSF</th>\n",
       "      <th>GrLivArea</th>\n",
       "      <th>BsmtFullBath</th>\n",
       "      <th>BsmtHalfBath</th>\n",
       "      <th>FullBath</th>\n",
       "      <th>HalfBath</th>\n",
       "      <th>BedroomAbvGr</th>\n",
       "      <th>KitchenAbvGr</th>\n",
       "      <th>TotRmsAbvGrd</th>\n",
       "      <th>Fireplaces</th>\n",
       "      <th>GarageYrBlt</th>\n",
       "      <th>GarageCars</th>\n",
       "      <th>GarageArea</th>\n",
       "      <th>WoodDeckSF</th>\n",
       "      <th>OpenPorchSF</th>\n",
       "      <th>EnclosedPorch</th>\n",
       "      <th>3SsnPorch</th>\n",
       "      <th>ScreenPorch</th>\n",
       "      <th>PoolArea</th>\n",
       "      <th>MiscVal</th>\n",
       "      <th>MoSold</th>\n",
       "      <th>YrSold</th>\n",
       "      <th>SalePrice</th>\n",
       "      <th>value_proposition</th>\n",
       "      <th>finished_basement</th>\n",
       "      <th>garage_value</th>\n",
       "    </tr>\n",
       "  </thead>\n",
       "  <tbody>\n",
       "    <tr>\n",
       "      <th>0</th>\n",
       "      <td>60.0</td>\n",
       "      <td>65.0</td>\n",
       "      <td>8450.0</td>\n",
       "      <td>7.0</td>\n",
       "      <td>5.0</td>\n",
       "      <td>2003.0</td>\n",
       "      <td>2003.0</td>\n",
       "      <td>196.0</td>\n",
       "      <td>706.0</td>\n",
       "      <td>0.0</td>\n",
       "      <td>150.0</td>\n",
       "      <td>856.0</td>\n",
       "      <td>856.0</td>\n",
       "      <td>854.0</td>\n",
       "      <td>0.0</td>\n",
       "      <td>1710.0</td>\n",
       "      <td>1.0</td>\n",
       "      <td>0.0</td>\n",
       "      <td>2.0</td>\n",
       "      <td>1.0</td>\n",
       "      <td>3.0</td>\n",
       "      <td>1.0</td>\n",
       "      <td>8.0</td>\n",
       "      <td>0.0</td>\n",
       "      <td>2003.0</td>\n",
       "      <td>2.0</td>\n",
       "      <td>548.0</td>\n",
       "      <td>0.0</td>\n",
       "      <td>61.0</td>\n",
       "      <td>0.0</td>\n",
       "      <td>0.0</td>\n",
       "      <td>0.0</td>\n",
       "      <td>0.0</td>\n",
       "      <td>0.0</td>\n",
       "      <td>2.0</td>\n",
       "      <td>2008.0</td>\n",
       "      <td>208500.0</td>\n",
       "      <td>14021.0</td>\n",
       "      <td>1.0</td>\n",
       "      <td>4006.0</td>\n",
       "    </tr>\n",
       "    <tr>\n",
       "      <th>1</th>\n",
       "      <td>20.0</td>\n",
       "      <td>80.0</td>\n",
       "      <td>9600.0</td>\n",
       "      <td>6.0</td>\n",
       "      <td>8.0</td>\n",
       "      <td>1976.0</td>\n",
       "      <td>1976.0</td>\n",
       "      <td>0.0</td>\n",
       "      <td>978.0</td>\n",
       "      <td>0.0</td>\n",
       "      <td>284.0</td>\n",
       "      <td>1262.0</td>\n",
       "      <td>1262.0</td>\n",
       "      <td>0.0</td>\n",
       "      <td>0.0</td>\n",
       "      <td>1262.0</td>\n",
       "      <td>0.0</td>\n",
       "      <td>1.0</td>\n",
       "      <td>2.0</td>\n",
       "      <td>0.0</td>\n",
       "      <td>3.0</td>\n",
       "      <td>1.0</td>\n",
       "      <td>6.0</td>\n",
       "      <td>1.0</td>\n",
       "      <td>1976.0</td>\n",
       "      <td>2.0</td>\n",
       "      <td>460.0</td>\n",
       "      <td>298.0</td>\n",
       "      <td>0.0</td>\n",
       "      <td>0.0</td>\n",
       "      <td>0.0</td>\n",
       "      <td>0.0</td>\n",
       "      <td>0.0</td>\n",
       "      <td>0.0</td>\n",
       "      <td>5.0</td>\n",
       "      <td>2007.0</td>\n",
       "      <td>181500.0</td>\n",
       "      <td>11856.0</td>\n",
       "      <td>1.0</td>\n",
       "      <td>3952.0</td>\n",
       "    </tr>\n",
       "    <tr>\n",
       "      <th>2</th>\n",
       "      <td>60.0</td>\n",
       "      <td>68.0</td>\n",
       "      <td>11250.0</td>\n",
       "      <td>7.0</td>\n",
       "      <td>5.0</td>\n",
       "      <td>2001.0</td>\n",
       "      <td>2002.0</td>\n",
       "      <td>162.0</td>\n",
       "      <td>486.0</td>\n",
       "      <td>0.0</td>\n",
       "      <td>434.0</td>\n",
       "      <td>920.0</td>\n",
       "      <td>920.0</td>\n",
       "      <td>866.0</td>\n",
       "      <td>0.0</td>\n",
       "      <td>1786.0</td>\n",
       "      <td>1.0</td>\n",
       "      <td>0.0</td>\n",
       "      <td>2.0</td>\n",
       "      <td>1.0</td>\n",
       "      <td>3.0</td>\n",
       "      <td>1.0</td>\n",
       "      <td>6.0</td>\n",
       "      <td>1.0</td>\n",
       "      <td>2001.0</td>\n",
       "      <td>2.0</td>\n",
       "      <td>608.0</td>\n",
       "      <td>0.0</td>\n",
       "      <td>42.0</td>\n",
       "      <td>0.0</td>\n",
       "      <td>0.0</td>\n",
       "      <td>0.0</td>\n",
       "      <td>0.0</td>\n",
       "      <td>0.0</td>\n",
       "      <td>9.0</td>\n",
       "      <td>2008.0</td>\n",
       "      <td>223500.0</td>\n",
       "      <td>14007.0</td>\n",
       "      <td>1.0</td>\n",
       "      <td>4002.0</td>\n",
       "    </tr>\n",
       "    <tr>\n",
       "      <th>3</th>\n",
       "      <td>70.0</td>\n",
       "      <td>60.0</td>\n",
       "      <td>9550.0</td>\n",
       "      <td>7.0</td>\n",
       "      <td>5.0</td>\n",
       "      <td>1915.0</td>\n",
       "      <td>1970.0</td>\n",
       "      <td>0.0</td>\n",
       "      <td>216.0</td>\n",
       "      <td>0.0</td>\n",
       "      <td>540.0</td>\n",
       "      <td>756.0</td>\n",
       "      <td>961.0</td>\n",
       "      <td>756.0</td>\n",
       "      <td>0.0</td>\n",
       "      <td>1717.0</td>\n",
       "      <td>1.0</td>\n",
       "      <td>0.0</td>\n",
       "      <td>1.0</td>\n",
       "      <td>0.0</td>\n",
       "      <td>3.0</td>\n",
       "      <td>1.0</td>\n",
       "      <td>7.0</td>\n",
       "      <td>1.0</td>\n",
       "      <td>1998.0</td>\n",
       "      <td>3.0</td>\n",
       "      <td>642.0</td>\n",
       "      <td>0.0</td>\n",
       "      <td>35.0</td>\n",
       "      <td>272.0</td>\n",
       "      <td>0.0</td>\n",
       "      <td>0.0</td>\n",
       "      <td>0.0</td>\n",
       "      <td>0.0</td>\n",
       "      <td>2.0</td>\n",
       "      <td>2006.0</td>\n",
       "      <td>140000.0</td>\n",
       "      <td>13405.0</td>\n",
       "      <td>1.0</td>\n",
       "      <td>5745.0</td>\n",
       "    </tr>\n",
       "    <tr>\n",
       "      <th>4</th>\n",
       "      <td>60.0</td>\n",
       "      <td>84.0</td>\n",
       "      <td>14260.0</td>\n",
       "      <td>8.0</td>\n",
       "      <td>5.0</td>\n",
       "      <td>2000.0</td>\n",
       "      <td>2000.0</td>\n",
       "      <td>350.0</td>\n",
       "      <td>655.0</td>\n",
       "      <td>0.0</td>\n",
       "      <td>490.0</td>\n",
       "      <td>1145.0</td>\n",
       "      <td>1145.0</td>\n",
       "      <td>1053.0</td>\n",
       "      <td>0.0</td>\n",
       "      <td>2198.0</td>\n",
       "      <td>1.0</td>\n",
       "      <td>0.0</td>\n",
       "      <td>2.0</td>\n",
       "      <td>1.0</td>\n",
       "      <td>4.0</td>\n",
       "      <td>1.0</td>\n",
       "      <td>9.0</td>\n",
       "      <td>1.0</td>\n",
       "      <td>2000.0</td>\n",
       "      <td>3.0</td>\n",
       "      <td>836.0</td>\n",
       "      <td>192.0</td>\n",
       "      <td>84.0</td>\n",
       "      <td>0.0</td>\n",
       "      <td>0.0</td>\n",
       "      <td>0.0</td>\n",
       "      <td>0.0</td>\n",
       "      <td>0.0</td>\n",
       "      <td>12.0</td>\n",
       "      <td>2008.0</td>\n",
       "      <td>250000.0</td>\n",
       "      <td>16000.0</td>\n",
       "      <td>1.0</td>\n",
       "      <td>6000.0</td>\n",
       "    </tr>\n",
       "  </tbody>\n",
       "</table>\n",
       "</div>"
      ],
      "text/plain": [
       "   MSSubClass  LotFrontage  LotArea  OverallQual  OverallCond  YearBuilt  \\\n",
       "0        60.0         65.0   8450.0          7.0          5.0     2003.0   \n",
       "1        20.0         80.0   9600.0          6.0          8.0     1976.0   \n",
       "2        60.0         68.0  11250.0          7.0          5.0     2001.0   \n",
       "3        70.0         60.0   9550.0          7.0          5.0     1915.0   \n",
       "4        60.0         84.0  14260.0          8.0          5.0     2000.0   \n",
       "\n",
       "   YearRemodAdd  MasVnrArea  BsmtFinSF1  BsmtFinSF2  BsmtUnfSF  TotalBsmtSF  \\\n",
       "0        2003.0       196.0       706.0         0.0      150.0        856.0   \n",
       "1        1976.0         0.0       978.0         0.0      284.0       1262.0   \n",
       "2        2002.0       162.0       486.0         0.0      434.0        920.0   \n",
       "3        1970.0         0.0       216.0         0.0      540.0        756.0   \n",
       "4        2000.0       350.0       655.0         0.0      490.0       1145.0   \n",
       "\n",
       "   1stFlrSF  2ndFlrSF  LowQualFinSF  GrLivArea  BsmtFullBath  BsmtHalfBath  \\\n",
       "0     856.0     854.0           0.0     1710.0           1.0           0.0   \n",
       "1    1262.0       0.0           0.0     1262.0           0.0           1.0   \n",
       "2     920.0     866.0           0.0     1786.0           1.0           0.0   \n",
       "3     961.0     756.0           0.0     1717.0           1.0           0.0   \n",
       "4    1145.0    1053.0           0.0     2198.0           1.0           0.0   \n",
       "\n",
       "   FullBath  HalfBath  BedroomAbvGr  KitchenAbvGr  TotRmsAbvGrd  Fireplaces  \\\n",
       "0       2.0       1.0           3.0           1.0           8.0         0.0   \n",
       "1       2.0       0.0           3.0           1.0           6.0         1.0   \n",
       "2       2.0       1.0           3.0           1.0           6.0         1.0   \n",
       "3       1.0       0.0           3.0           1.0           7.0         1.0   \n",
       "4       2.0       1.0           4.0           1.0           9.0         1.0   \n",
       "\n",
       "   GarageYrBlt  GarageCars  GarageArea  WoodDeckSF  OpenPorchSF  \\\n",
       "0       2003.0         2.0       548.0         0.0         61.0   \n",
       "1       1976.0         2.0       460.0       298.0          0.0   \n",
       "2       2001.0         2.0       608.0         0.0         42.0   \n",
       "3       1998.0         3.0       642.0         0.0         35.0   \n",
       "4       2000.0         3.0       836.0       192.0         84.0   \n",
       "\n",
       "   EnclosedPorch  3SsnPorch  ScreenPorch  PoolArea  MiscVal  MoSold  YrSold  \\\n",
       "0            0.0        0.0          0.0       0.0      0.0     2.0  2008.0   \n",
       "1            0.0        0.0          0.0       0.0      0.0     5.0  2007.0   \n",
       "2            0.0        0.0          0.0       0.0      0.0     9.0  2008.0   \n",
       "3          272.0        0.0          0.0       0.0      0.0     2.0  2006.0   \n",
       "4            0.0        0.0          0.0       0.0      0.0    12.0  2008.0   \n",
       "\n",
       "   SalePrice  value_proposition  finished_basement  garage_value  \n",
       "0   208500.0            14021.0                1.0        4006.0  \n",
       "1   181500.0            11856.0                1.0        3952.0  \n",
       "2   223500.0            14007.0                1.0        4002.0  \n",
       "3   140000.0            13405.0                1.0        5745.0  \n",
       "4   250000.0            16000.0                1.0        6000.0  "
      ]
     },
     "execution_count": 13,
     "metadata": {},
     "output_type": "execute_result"
    }
   ],
   "source": [
    "numerics.head()"
   ]
  },
  {
   "cell_type": "code",
   "execution_count": 14,
   "metadata": {
    "execution": {
     "iopub.execute_input": "2020-11-02T17:26:20.892454Z",
     "iopub.status.busy": "2020-11-02T17:26:20.891160Z",
     "iopub.status.idle": "2020-11-02T17:26:20.933437Z",
     "shell.execute_reply": "2020-11-02T17:26:20.934059Z"
    },
    "papermill": {
     "duration": 0.101278,
     "end_time": "2020-11-02T17:26:20.934219",
     "exception": false,
     "start_time": "2020-11-02T17:26:20.832941",
     "status": "completed"
    },
    "tags": []
   },
   "outputs": [
    {
     "name": "stdout",
     "output_type": "stream",
     "text": [
      "Index(['MSSubClass', 'LotFrontage', 'LotArea', 'OverallQual', 'OverallCond',\n",
      "       'MasVnrArea', 'BsmtFinSF1', 'BsmtFinSF2', 'BsmtUnfSF', 'TotalBsmtSF',\n",
      "       '1stFlrSF', '2ndFlrSF', 'LowQualFinSF', 'GrLivArea', 'BsmtFullBath',\n",
      "       'BsmtHalfBath', 'FullBath', 'HalfBath', 'BedroomAbvGr', 'KitchenAbvGr',\n",
      "       'TotRmsAbvGrd', 'Fireplaces', 'GarageCars', 'GarageArea', 'WoodDeckSF',\n",
      "       'OpenPorchSF', 'EnclosedPorch', '3SsnPorch', 'ScreenPorch', 'PoolArea',\n",
      "       'MiscVal', 'MoSold', 'value_proposition', 'finished_basement',\n",
      "       'garage_value'],\n",
      "      dtype='object')\n"
     ]
    },
    {
     "data": {
      "text/plain": [
       "<bound method NDFrame.head of       MSSubClass  LotFrontage   LotArea  OverallQual  OverallCond  YearBuilt  \\\n",
       "0       0.235294     0.150685  0.033420     0.666667        0.500     2003.0   \n",
       "1       0.000000     0.202055  0.038795     0.555556        0.875     1976.0   \n",
       "2       0.235294     0.160959  0.046507     0.666667        0.500     2001.0   \n",
       "3       0.294118     0.133562  0.038561     0.666667        0.500     1915.0   \n",
       "4       0.235294     0.215753  0.060576     0.777778        0.500     2000.0   \n",
       "...          ...          ...       ...          ...          ...        ...   \n",
       "1454    0.823529     0.000000  0.002973     0.333333        0.750     1970.0   \n",
       "1455    0.823529     0.000000  0.002776     0.333333        0.500     1970.0   \n",
       "1456    0.000000     0.476027  0.087406     0.444444        0.750     1960.0   \n",
       "1457    0.382353     0.140411  0.042726     0.444444        0.500     1992.0   \n",
       "1458    0.235294     0.181507  0.038921     0.666667        0.500     1993.0   \n",
       "\n",
       "      YearRemodAdd  MasVnrArea  BsmtFinSF1  BsmtFinSF2  BsmtUnfSF  \\\n",
       "0           2003.0     0.12250    0.125089         0.0   0.064212   \n",
       "1           1976.0     0.00000    0.173281         0.0   0.121575   \n",
       "2           2002.0     0.10125    0.086109         0.0   0.185788   \n",
       "3           1970.0     0.00000    0.038271         0.0   0.231164   \n",
       "4           2000.0     0.21875    0.116052         0.0   0.209760   \n",
       "...            ...         ...         ...         ...        ...   \n",
       "1454        1970.0     0.00000    0.000000         0.0   0.233733   \n",
       "1455        1970.0     0.00000    0.044649         0.0   0.125856   \n",
       "1456        1996.0     0.00000    0.216867         0.0   0.000000   \n",
       "1457        1992.0     0.00000    0.059709         0.0   0.246147   \n",
       "1458        1994.0     0.05875    0.134302         0.0   0.101884   \n",
       "\n",
       "      TotalBsmtSF  1stFlrSF  2ndFlrSF  LowQualFinSF  GrLivArea  BsmtFullBath  \\\n",
       "0        0.140098  0.109641  0.413559           0.0   0.259231      0.333333   \n",
       "1        0.206547  0.194917  0.000000           0.0   0.174830      0.000000   \n",
       "2        0.150573  0.123083  0.419370           0.0   0.273549      0.333333   \n",
       "3        0.123732  0.131695  0.366102           0.0   0.260550      0.333333   \n",
       "4        0.187398  0.170342  0.509927           0.0   0.351168      0.333333   \n",
       "...           ...       ...       ...           ...        ...           ...   \n",
       "1454     0.089362  0.044528  0.264407           0.0   0.142803      0.000000   \n",
       "1455     0.089362  0.044528  0.264407           0.0   0.142803      0.000000   \n",
       "1456     0.200327  0.186936  0.000000           0.0   0.167671      0.333333   \n",
       "1457     0.149264  0.133585  0.000000           0.0   0.119819      0.000000   \n",
       "1458     0.163011  0.139046  0.486199           0.0   0.313866      0.000000   \n",
       "\n",
       "      BsmtHalfBath  FullBath  HalfBath  BedroomAbvGr  KitchenAbvGr  \\\n",
       "0              0.0      0.50       0.5         0.375      0.333333   \n",
       "1              0.5      0.50       0.0         0.375      0.333333   \n",
       "2              0.0      0.50       0.5         0.375      0.333333   \n",
       "3              0.0      0.25       0.0         0.375      0.333333   \n",
       "4              0.0      0.50       0.5         0.500      0.333333   \n",
       "...            ...       ...       ...           ...           ...   \n",
       "1454           0.0      0.25       0.5         0.375      0.333333   \n",
       "1455           0.0      0.25       0.5         0.375      0.333333   \n",
       "1456           0.0      0.25       0.0         0.500      0.333333   \n",
       "1457           0.5      0.25       0.0         0.375      0.333333   \n",
       "1458           0.0      0.50       0.5         0.375      0.333333   \n",
       "\n",
       "      TotRmsAbvGrd  Fireplaces  GarageYrBlt  GarageCars  GarageArea  \\\n",
       "0         0.461538        0.00       2003.0         0.4    0.368280   \n",
       "1         0.307692        0.25       1976.0         0.4    0.309140   \n",
       "2         0.307692        0.25       2001.0         0.4    0.408602   \n",
       "3         0.384615        0.25       1998.0         0.6    0.431452   \n",
       "4         0.538462        0.25       2000.0         0.6    0.561828   \n",
       "...            ...         ...          ...         ...         ...   \n",
       "1454      0.230769        0.00       1979.0         0.0    0.000000   \n",
       "1455      0.307692        0.00       1970.0         0.2    0.192204   \n",
       "1456      0.384615        0.25       1960.0         0.4    0.387097   \n",
       "1457      0.307692        0.00       1979.0         0.0    0.000000   \n",
       "1458      0.538462        0.25       1993.0         0.6    0.436828   \n",
       "\n",
       "      WoodDeckSF  OpenPorchSF  EnclosedPorch  3SsnPorch  ScreenPorch  \\\n",
       "0       0.000000     0.082210       0.000000        0.0          0.0   \n",
       "1       0.209270     0.000000       0.000000        0.0          0.0   \n",
       "2       0.000000     0.056604       0.000000        0.0          0.0   \n",
       "3       0.000000     0.047170       0.268775        0.0          0.0   \n",
       "4       0.134831     0.113208       0.000000        0.0          0.0   \n",
       "...          ...          ...            ...        ...          ...   \n",
       "1454    0.000000     0.000000       0.000000        0.0          0.0   \n",
       "1455    0.000000     0.032345       0.000000        0.0          0.0   \n",
       "1456    0.332865     0.000000       0.000000        0.0          0.0   \n",
       "1457    0.056180     0.043127       0.000000        0.0          0.0   \n",
       "1458    0.133427     0.064690       0.000000        0.0          0.0   \n",
       "\n",
       "      PoolArea   MiscVal    MoSold  YrSold  SalePrice  value_proposition  \\\n",
       "0          0.0  0.000000  0.090909  2008.0   208500.0           0.665951   \n",
       "1          0.0  0.000000  0.363636  2007.0   181500.0           0.546786   \n",
       "2          0.0  0.000000  0.727273  2008.0   223500.0           0.665181   \n",
       "3          0.0  0.000000  0.090909  2006.0   140000.0           0.632045   \n",
       "4          0.0  0.000000  1.000000  2008.0   250000.0           0.774879   \n",
       "...        ...       ...       ...     ...        ...                ...   \n",
       "1454       0.0  0.000000  0.454545  2006.0        NaN           0.327939   \n",
       "1455       0.0  0.000000  0.272727  2006.0        NaN           0.327939   \n",
       "1456       0.0  0.000000  0.727273  2006.0        NaN           0.433620   \n",
       "1457       0.0  0.041176  0.545455  2006.0        NaN           0.442426   \n",
       "1458       0.0  0.000000  0.909091  2006.0        NaN           0.662098   \n",
       "\n",
       "      finished_basement  garage_value  \n",
       "0                   1.0      0.416208  \n",
       "1                   1.0      0.410597  \n",
       "2                   1.0      0.415792  \n",
       "3                   1.0      0.596883  \n",
       "4                   1.0      0.623377  \n",
       "...                 ...           ...  \n",
       "1454                0.0      0.000000  \n",
       "1455                1.0      0.204675  \n",
       "1456                1.0      0.407273  \n",
       "1457                1.0      0.000000  \n",
       "1458                1.0      0.621195  \n",
       "\n",
       "[2919 rows x 40 columns]>"
      ]
     },
     "execution_count": 14,
     "metadata": {},
     "output_type": "execute_result"
    }
   ],
   "source": [
    "from sklearn import preprocessing\n",
    "from sklearn.preprocessing import MinMaxScaler\n",
    "from pandas.plotting import scatter_matrix\n",
    "scaler = MinMaxScaler()\n",
    "from sklearn.preprocessing import MinMaxScaler\n",
    "noyear = ~numerics.columns.str.contains('Yr|Year|SalePrice', regex=True)\n",
    "noyear = numerics.columns [noyear]\n",
    "print(noyear)\n",
    "numerics[noyear] = scaler.fit_transform(numerics[noyear])\n",
    "numerics.head"
   ]
  },
  {
   "cell_type": "markdown",
   "metadata": {
    "papermill": {
     "duration": 0.048729,
     "end_time": "2020-11-02T17:26:21.030444",
     "exception": false,
     "start_time": "2020-11-02T17:26:20.981715",
     "status": "completed"
    },
    "tags": []
   },
   "source": [
    "The skewnesses of many features are reduced by logarithmic conversion. Some skewnesses have increased, but overall it has decreased."
   ]
  },
  {
   "cell_type": "markdown",
   "metadata": {
    "papermill": {
     "duration": 0.049704,
     "end_time": "2020-11-02T17:26:21.128965",
     "exception": false,
     "start_time": "2020-11-02T17:26:21.079261",
     "status": "completed"
    },
    "tags": []
   },
   "source": [
    "## 2.2 Transform categorical into one-hot vector<a id=\"2.2\"></a>\n",
    "**transform all categorical columns of the data frame into one-hot vector**<br><br>\n",
    "Since GBDT treats features as numerical data, it is necessary to convert categorical data to numerical values. Label encoding is fine, but one-hot encoding often has better performance."
   ]
  },
  {
   "cell_type": "code",
   "execution_count": 15,
   "metadata": {
    "execution": {
     "iopub.execute_input": "2020-11-02T17:26:21.238567Z",
     "iopub.status.busy": "2020-11-02T17:26:21.237805Z",
     "iopub.status.idle": "2020-11-02T17:26:21.598362Z",
     "shell.execute_reply": "2020-11-02T17:26:21.597298Z"
    },
    "papermill": {
     "duration": 0.420776,
     "end_time": "2020-11-02T17:26:21.598535",
     "exception": false,
     "start_time": "2020-11-02T17:26:21.177759",
     "status": "completed"
    },
    "tags": []
   },
   "outputs": [
    {
     "data": {
      "text/html": [
       "<div>\n",
       "<style scoped>\n",
       "    .dataframe tbody tr th:only-of-type {\n",
       "        vertical-align: middle;\n",
       "    }\n",
       "\n",
       "    .dataframe tbody tr th {\n",
       "        vertical-align: top;\n",
       "    }\n",
       "\n",
       "    .dataframe thead th {\n",
       "        text-align: right;\n",
       "    }\n",
       "</style>\n",
       "<table border=\"1\" class=\"dataframe\">\n",
       "  <thead>\n",
       "    <tr style=\"text-align: right;\">\n",
       "      <th></th>\n",
       "      <th>MSZoning</th>\n",
       "      <th>Street</th>\n",
       "      <th>Alley</th>\n",
       "      <th>LotShape</th>\n",
       "      <th>LandContour</th>\n",
       "      <th>Utilities</th>\n",
       "      <th>LotConfig</th>\n",
       "      <th>LandSlope</th>\n",
       "      <th>Neighborhood</th>\n",
       "      <th>Condition1</th>\n",
       "      <th>Condition2</th>\n",
       "      <th>BldgType</th>\n",
       "      <th>HouseStyle</th>\n",
       "      <th>RoofStyle</th>\n",
       "      <th>RoofMatl</th>\n",
       "      <th>Exterior1st</th>\n",
       "      <th>Exterior2nd</th>\n",
       "      <th>MasVnrType</th>\n",
       "      <th>ExterQual</th>\n",
       "      <th>ExterCond</th>\n",
       "      <th>Foundation</th>\n",
       "      <th>BsmtQual</th>\n",
       "      <th>BsmtCond</th>\n",
       "      <th>BsmtExposure</th>\n",
       "      <th>BsmtFinType1</th>\n",
       "      <th>BsmtFinType2</th>\n",
       "      <th>Heating</th>\n",
       "      <th>HeatingQC</th>\n",
       "      <th>CentralAir</th>\n",
       "      <th>Electrical</th>\n",
       "      <th>KitchenQual</th>\n",
       "      <th>Functional</th>\n",
       "      <th>FireplaceQu</th>\n",
       "      <th>GarageType</th>\n",
       "      <th>GarageFinish</th>\n",
       "      <th>GarageQual</th>\n",
       "      <th>GarageCond</th>\n",
       "      <th>PavedDrive</th>\n",
       "      <th>PoolQC</th>\n",
       "      <th>Fence</th>\n",
       "      <th>MiscFeature</th>\n",
       "      <th>SaleType</th>\n",
       "      <th>SaleCondition</th>\n",
       "    </tr>\n",
       "  </thead>\n",
       "  <tbody>\n",
       "    <tr>\n",
       "      <th>0</th>\n",
       "      <td>4.0</td>\n",
       "      <td>2</td>\n",
       "      <td>0.0</td>\n",
       "      <td>4</td>\n",
       "      <td>4</td>\n",
       "      <td>1.0</td>\n",
       "      <td>5</td>\n",
       "      <td>1</td>\n",
       "      <td>6</td>\n",
       "      <td>3</td>\n",
       "      <td>3</td>\n",
       "      <td>1</td>\n",
       "      <td>6</td>\n",
       "      <td>2</td>\n",
       "      <td>2</td>\n",
       "      <td>13.0</td>\n",
       "      <td>14.0</td>\n",
       "      <td>2.0</td>\n",
       "      <td>3</td>\n",
       "      <td>5</td>\n",
       "      <td>3</td>\n",
       "      <td>3.0</td>\n",
       "      <td>4.0</td>\n",
       "      <td>4.0</td>\n",
       "      <td>3.0</td>\n",
       "      <td>6.0</td>\n",
       "      <td>2</td>\n",
       "      <td>1</td>\n",
       "      <td>2</td>\n",
       "      <td>5.0</td>\n",
       "      <td>3.0</td>\n",
       "      <td>7.0</td>\n",
       "      <td>0.0</td>\n",
       "      <td>2.0</td>\n",
       "      <td>2.0</td>\n",
       "      <td>5.0</td>\n",
       "      <td>5.0</td>\n",
       "      <td>3</td>\n",
       "      <td>0.0</td>\n",
       "      <td>0.0</td>\n",
       "      <td>0.0</td>\n",
       "      <td>9.0</td>\n",
       "      <td>5</td>\n",
       "    </tr>\n",
       "    <tr>\n",
       "      <th>1</th>\n",
       "      <td>4.0</td>\n",
       "      <td>2</td>\n",
       "      <td>0.0</td>\n",
       "      <td>4</td>\n",
       "      <td>4</td>\n",
       "      <td>1.0</td>\n",
       "      <td>3</td>\n",
       "      <td>1</td>\n",
       "      <td>25</td>\n",
       "      <td>2</td>\n",
       "      <td>3</td>\n",
       "      <td>1</td>\n",
       "      <td>3</td>\n",
       "      <td>2</td>\n",
       "      <td>2</td>\n",
       "      <td>9.0</td>\n",
       "      <td>9.0</td>\n",
       "      <td>3.0</td>\n",
       "      <td>4</td>\n",
       "      <td>5</td>\n",
       "      <td>2</td>\n",
       "      <td>3.0</td>\n",
       "      <td>4.0</td>\n",
       "      <td>2.0</td>\n",
       "      <td>1.0</td>\n",
       "      <td>6.0</td>\n",
       "      <td>2</td>\n",
       "      <td>1</td>\n",
       "      <td>2</td>\n",
       "      <td>5.0</td>\n",
       "      <td>4.0</td>\n",
       "      <td>7.0</td>\n",
       "      <td>5.0</td>\n",
       "      <td>2.0</td>\n",
       "      <td>2.0</td>\n",
       "      <td>5.0</td>\n",
       "      <td>5.0</td>\n",
       "      <td>3</td>\n",
       "      <td>0.0</td>\n",
       "      <td>0.0</td>\n",
       "      <td>0.0</td>\n",
       "      <td>9.0</td>\n",
       "      <td>5</td>\n",
       "    </tr>\n",
       "    <tr>\n",
       "      <th>2</th>\n",
       "      <td>4.0</td>\n",
       "      <td>2</td>\n",
       "      <td>0.0</td>\n",
       "      <td>1</td>\n",
       "      <td>4</td>\n",
       "      <td>1.0</td>\n",
       "      <td>5</td>\n",
       "      <td>1</td>\n",
       "      <td>6</td>\n",
       "      <td>3</td>\n",
       "      <td>3</td>\n",
       "      <td>1</td>\n",
       "      <td>6</td>\n",
       "      <td>2</td>\n",
       "      <td>2</td>\n",
       "      <td>13.0</td>\n",
       "      <td>14.0</td>\n",
       "      <td>2.0</td>\n",
       "      <td>3</td>\n",
       "      <td>5</td>\n",
       "      <td>3</td>\n",
       "      <td>3.0</td>\n",
       "      <td>4.0</td>\n",
       "      <td>3.0</td>\n",
       "      <td>3.0</td>\n",
       "      <td>6.0</td>\n",
       "      <td>2</td>\n",
       "      <td>1</td>\n",
       "      <td>2</td>\n",
       "      <td>5.0</td>\n",
       "      <td>3.0</td>\n",
       "      <td>7.0</td>\n",
       "      <td>5.0</td>\n",
       "      <td>2.0</td>\n",
       "      <td>2.0</td>\n",
       "      <td>5.0</td>\n",
       "      <td>5.0</td>\n",
       "      <td>3</td>\n",
       "      <td>0.0</td>\n",
       "      <td>0.0</td>\n",
       "      <td>0.0</td>\n",
       "      <td>9.0</td>\n",
       "      <td>5</td>\n",
       "    </tr>\n",
       "    <tr>\n",
       "      <th>3</th>\n",
       "      <td>4.0</td>\n",
       "      <td>2</td>\n",
       "      <td>0.0</td>\n",
       "      <td>1</td>\n",
       "      <td>4</td>\n",
       "      <td>1.0</td>\n",
       "      <td>1</td>\n",
       "      <td>1</td>\n",
       "      <td>7</td>\n",
       "      <td>3</td>\n",
       "      <td>3</td>\n",
       "      <td>1</td>\n",
       "      <td>6</td>\n",
       "      <td>2</td>\n",
       "      <td>2</td>\n",
       "      <td>14.0</td>\n",
       "      <td>16.0</td>\n",
       "      <td>3.0</td>\n",
       "      <td>4</td>\n",
       "      <td>5</td>\n",
       "      <td>1</td>\n",
       "      <td>4.0</td>\n",
       "      <td>2.0</td>\n",
       "      <td>4.0</td>\n",
       "      <td>1.0</td>\n",
       "      <td>6.0</td>\n",
       "      <td>2</td>\n",
       "      <td>3</td>\n",
       "      <td>2</td>\n",
       "      <td>5.0</td>\n",
       "      <td>3.0</td>\n",
       "      <td>7.0</td>\n",
       "      <td>3.0</td>\n",
       "      <td>6.0</td>\n",
       "      <td>3.0</td>\n",
       "      <td>5.0</td>\n",
       "      <td>5.0</td>\n",
       "      <td>3</td>\n",
       "      <td>0.0</td>\n",
       "      <td>0.0</td>\n",
       "      <td>0.0</td>\n",
       "      <td>9.0</td>\n",
       "      <td>1</td>\n",
       "    </tr>\n",
       "    <tr>\n",
       "      <th>4</th>\n",
       "      <td>4.0</td>\n",
       "      <td>2</td>\n",
       "      <td>0.0</td>\n",
       "      <td>1</td>\n",
       "      <td>4</td>\n",
       "      <td>1.0</td>\n",
       "      <td>3</td>\n",
       "      <td>1</td>\n",
       "      <td>16</td>\n",
       "      <td>3</td>\n",
       "      <td>3</td>\n",
       "      <td>1</td>\n",
       "      <td>6</td>\n",
       "      <td>2</td>\n",
       "      <td>2</td>\n",
       "      <td>13.0</td>\n",
       "      <td>14.0</td>\n",
       "      <td>2.0</td>\n",
       "      <td>3</td>\n",
       "      <td>5</td>\n",
       "      <td>3</td>\n",
       "      <td>3.0</td>\n",
       "      <td>4.0</td>\n",
       "      <td>1.0</td>\n",
       "      <td>3.0</td>\n",
       "      <td>6.0</td>\n",
       "      <td>2</td>\n",
       "      <td>1</td>\n",
       "      <td>2</td>\n",
       "      <td>5.0</td>\n",
       "      <td>3.0</td>\n",
       "      <td>7.0</td>\n",
       "      <td>5.0</td>\n",
       "      <td>2.0</td>\n",
       "      <td>2.0</td>\n",
       "      <td>5.0</td>\n",
       "      <td>5.0</td>\n",
       "      <td>3</td>\n",
       "      <td>0.0</td>\n",
       "      <td>0.0</td>\n",
       "      <td>0.0</td>\n",
       "      <td>9.0</td>\n",
       "      <td>5</td>\n",
       "    </tr>\n",
       "  </tbody>\n",
       "</table>\n",
       "</div>"
      ],
      "text/plain": [
       "   MSZoning  Street  Alley  LotShape  LandContour  Utilities  LotConfig  \\\n",
       "0       4.0       2    0.0         4            4        1.0          5   \n",
       "1       4.0       2    0.0         4            4        1.0          3   \n",
       "2       4.0       2    0.0         1            4        1.0          5   \n",
       "3       4.0       2    0.0         1            4        1.0          1   \n",
       "4       4.0       2    0.0         1            4        1.0          3   \n",
       "\n",
       "   LandSlope  Neighborhood  Condition1  Condition2  BldgType  HouseStyle  \\\n",
       "0          1             6           3           3         1           6   \n",
       "1          1            25           2           3         1           3   \n",
       "2          1             6           3           3         1           6   \n",
       "3          1             7           3           3         1           6   \n",
       "4          1            16           3           3         1           6   \n",
       "\n",
       "   RoofStyle  RoofMatl  Exterior1st  Exterior2nd  MasVnrType  ExterQual  \\\n",
       "0          2         2         13.0         14.0         2.0          3   \n",
       "1          2         2          9.0          9.0         3.0          4   \n",
       "2          2         2         13.0         14.0         2.0          3   \n",
       "3          2         2         14.0         16.0         3.0          4   \n",
       "4          2         2         13.0         14.0         2.0          3   \n",
       "\n",
       "   ExterCond  Foundation  BsmtQual  BsmtCond  BsmtExposure  BsmtFinType1  \\\n",
       "0          5           3       3.0       4.0           4.0           3.0   \n",
       "1          5           2       3.0       4.0           2.0           1.0   \n",
       "2          5           3       3.0       4.0           3.0           3.0   \n",
       "3          5           1       4.0       2.0           4.0           1.0   \n",
       "4          5           3       3.0       4.0           1.0           3.0   \n",
       "\n",
       "   BsmtFinType2  Heating  HeatingQC  CentralAir  Electrical  KitchenQual  \\\n",
       "0           6.0        2          1           2         5.0          3.0   \n",
       "1           6.0        2          1           2         5.0          4.0   \n",
       "2           6.0        2          1           2         5.0          3.0   \n",
       "3           6.0        2          3           2         5.0          3.0   \n",
       "4           6.0        2          1           2         5.0          3.0   \n",
       "\n",
       "   Functional  FireplaceQu  GarageType  GarageFinish  GarageQual  GarageCond  \\\n",
       "0         7.0          0.0         2.0           2.0         5.0         5.0   \n",
       "1         7.0          5.0         2.0           2.0         5.0         5.0   \n",
       "2         7.0          5.0         2.0           2.0         5.0         5.0   \n",
       "3         7.0          3.0         6.0           3.0         5.0         5.0   \n",
       "4         7.0          5.0         2.0           2.0         5.0         5.0   \n",
       "\n",
       "   PavedDrive  PoolQC  Fence  MiscFeature  SaleType  SaleCondition  \n",
       "0           3     0.0    0.0          0.0       9.0              5  \n",
       "1           3     0.0    0.0          0.0       9.0              5  \n",
       "2           3     0.0    0.0          0.0       9.0              5  \n",
       "3           3     0.0    0.0          0.0       9.0              1  \n",
       "4           3     0.0    0.0          0.0       9.0              5  "
      ]
     },
     "execution_count": 15,
     "metadata": {},
     "output_type": "execute_result"
    }
   ],
   "source": [
    "## for RF regressor no one hot encoding used\n",
    "cat_cols = data.loc[:,data.dtypes == 'object'].columns\n",
    "data.loc[:,cat_cols].head()\n",
    "cat_data = data.loc[:, cat_cols]\n",
    "cat_data.head()\n",
    "for i in cat_cols.values:\n",
    "\n",
    "    labels = cat_data[i].astype('category').cat.categories.tolist()\n",
    "    replace_map_comp = {i : {k: v for k,v in zip(labels,list(range(1,len(labels)+1)))}}\n",
    "    cat_data.replace(replace_map_comp, inplace=True)\n",
    "\n",
    "cat_data = cat_data.fillna(0)\n",
    "cat_data.head()"
   ]
  },
  {
   "cell_type": "markdown",
   "metadata": {
    "papermill": {
     "duration": 0.049516,
     "end_time": "2020-11-02T17:26:21.700691",
     "exception": false,
     "start_time": "2020-11-02T17:26:21.651175",
     "status": "completed"
    },
    "tags": []
   },
   "source": [
    "<a id=\"3\"></a>\n",
    "<h1 style='background:slateblue; border:.; color:white'><center>3. Prediction and submission</center></h1>"
   ]
  },
  {
   "cell_type": "markdown",
   "metadata": {
    "papermill": {
     "duration": 0.047311,
     "end_time": "2020-11-02T17:26:21.797176",
     "exception": false,
     "start_time": "2020-11-02T17:26:21.749865",
     "status": "completed"
    },
    "tags": []
   },
   "source": [
    "## 3.1 Format data<a id=\"3.1\"></a>\n",
    "**Format data for training**"
   ]
  },
  {
   "cell_type": "code",
   "execution_count": 16,
   "metadata": {
    "execution": {
     "iopub.execute_input": "2020-11-02T17:26:21.902688Z",
     "iopub.status.busy": "2020-11-02T17:26:21.901792Z",
     "iopub.status.idle": "2020-11-02T17:26:21.918687Z",
     "shell.execute_reply": "2020-11-02T17:26:21.918034Z"
    },
    "papermill": {
     "duration": 0.074076,
     "end_time": "2020-11-02T17:26:21.918823",
     "exception": false,
     "start_time": "2020-11-02T17:26:21.844747",
     "status": "completed"
    },
    "tags": []
   },
   "outputs": [],
   "source": [
    "# merge categorical and numeric columns\n",
    "optimized_data = pd.concat([data['Id'], cat_data, numerics], axis=1)\n",
    "optimized_data.head()\n",
    "# split data into X_train, y_train and test\n",
    "train = optimized_data[:train.shape[0]]\n",
    "test = optimized_data[train.shape[0]:].drop(['Id', 'SalePrice'], axis=1)\n",
    "X_train = train.drop(['Id', 'SalePrice'], axis=1)\n",
    "y_train = train['SalePrice']"
   ]
  },
  {
   "cell_type": "markdown",
   "metadata": {
    "papermill": {
     "duration": 0.048436,
     "end_time": "2020-11-02T17:26:22.015890",
     "exception": false,
     "start_time": "2020-11-02T17:26:21.967454",
     "status": "completed"
    },
    "tags": []
   },
   "source": [
    "> ## 3.2 learn and Prediction<a id=\"3.2\"></a>\n",
    "**fit and predict using lightGBM**"
   ]
  },
  {
   "cell_type": "code",
   "execution_count": 17,
   "metadata": {
    "execution": {
     "iopub.execute_input": "2020-11-02T17:26:22.124206Z",
     "iopub.status.busy": "2020-11-02T17:26:22.123379Z",
     "iopub.status.idle": "2020-11-02T17:26:23.298109Z",
     "shell.execute_reply": "2020-11-02T17:26:23.297263Z"
    },
    "papermill": {
     "duration": 1.233395,
     "end_time": "2020-11-02T17:26:23.298251",
     "exception": false,
     "start_time": "2020-11-02T17:26:22.064856",
     "status": "completed"
    },
    "tags": []
   },
   "outputs": [],
   "source": [
    "import os\n",
    "import random\n",
    "\n",
    "import numpy as np\n",
    "import pandas as pd\n",
    "import matplotlib.pyplot as plt\n",
    "import seaborn as sns\n",
    "import xgboost as xgb\n",
    "import lightgbm as lgbm\n",
    "import catboost as cb\n",
    "from sklearn.linear_model import LinearRegression\n",
    "\n",
    "from sklearn.model_selection import train_test_split, GridSearchCV\n",
    "from sklearn.metrics import accuracy_score\n",
    "from sklearn.tree import DecisionTreeRegressor\n",
    "from sklearn.ensemble import RandomForestRegressor\n",
    "from sklearn.preprocessing import LabelEncoder"
   ]
  },
  {
   "cell_type": "code",
   "execution_count": 18,
   "metadata": {
    "execution": {
     "iopub.execute_input": "2020-11-02T17:26:23.408492Z",
     "iopub.status.busy": "2020-11-02T17:26:23.407507Z",
     "iopub.status.idle": "2020-11-02T17:26:23.410479Z",
     "shell.execute_reply": "2020-11-02T17:26:23.409869Z"
    },
    "papermill": {
     "duration": 0.059368,
     "end_time": "2020-11-02T17:26:23.410610",
     "exception": false,
     "start_time": "2020-11-02T17:26:23.351242",
     "status": "completed"
    },
    "tags": []
   },
   "outputs": [],
   "source": [
    "def set_seed(seed_value):\n",
    "    random.seed(seed_value)\n",
    "    np.random.seed(seed_value)\n",
    "    os.environ['PYTHONHASHSEED'] = str(seed_value)\n",
    "    \n",
    "\n",
    "SEED = 42\n",
    "set_seed(SEED)\n",
    "\n"
   ]
  },
  {
   "cell_type": "code",
   "execution_count": 19,
   "metadata": {
    "execution": {
     "iopub.execute_input": "2020-11-02T17:26:23.536535Z",
     "iopub.status.busy": "2020-11-02T17:26:23.535679Z",
     "iopub.status.idle": "2020-11-02T18:28:38.069245Z",
     "shell.execute_reply": "2020-11-02T18:28:38.068462Z"
    },
    "papermill": {
     "duration": 3734.607378,
     "end_time": "2020-11-02T18:28:38.069415",
     "exception": false,
     "start_time": "2020-11-02T17:26:23.462037",
     "status": "completed"
    },
    "tags": []
   },
   "outputs": [
    {
     "name": "stdout",
     "output_type": "stream",
     "text": [
      "CPU times: user 3 µs, sys: 0 ns, total: 3 µs\n",
      "Wall time: 7.15 µs\n",
      "Fitting 5 folds for each of 2688 candidates, totalling 13440 fits\n"
     ]
    },
    {
     "name": "stderr",
     "output_type": "stream",
     "text": [
      "[Parallel(n_jobs=-1)]: Using backend LokyBackend with 4 concurrent workers.\n",
      "[Parallel(n_jobs=-1)]: Done  33 tasks      | elapsed:   10.1s\n",
      "[Parallel(n_jobs=-1)]: Done 154 tasks      | elapsed:   38.0s\n",
      "[Parallel(n_jobs=-1)]: Done 357 tasks      | elapsed:  1.5min\n",
      "[Parallel(n_jobs=-1)]: Done 640 tasks      | elapsed:  2.8min\n",
      "[Parallel(n_jobs=-1)]: Done 1005 tasks      | elapsed:  4.5min\n",
      "[Parallel(n_jobs=-1)]: Done 1450 tasks      | elapsed:  6.7min\n",
      "[Parallel(n_jobs=-1)]: Done 1977 tasks      | elapsed:  9.1min\n",
      "[Parallel(n_jobs=-1)]: Done 2584 tasks      | elapsed: 11.9min\n",
      "[Parallel(n_jobs=-1)]: Done 3273 tasks      | elapsed: 15.2min\n",
      "[Parallel(n_jobs=-1)]: Done 4042 tasks      | elapsed: 18.5min\n",
      "[Parallel(n_jobs=-1)]: Done 4893 tasks      | elapsed: 22.6min\n",
      "[Parallel(n_jobs=-1)]: Done 5824 tasks      | elapsed: 26.7min\n",
      "[Parallel(n_jobs=-1)]: Done 6837 tasks      | elapsed: 31.6min\n",
      "[Parallel(n_jobs=-1)]: Done 7930 tasks      | elapsed: 36.5min\n",
      "[Parallel(n_jobs=-1)]: Done 9105 tasks      | elapsed: 41.9min\n",
      "[Parallel(n_jobs=-1)]: Done 10360 tasks      | elapsed: 47.8min\n",
      "[Parallel(n_jobs=-1)]: Done 11697 tasks      | elapsed: 54.1min\n",
      "[Parallel(n_jobs=-1)]: Done 13114 tasks      | elapsed: 60.5min\n",
      "[Parallel(n_jobs=-1)]: Done 13440 out of 13440 | elapsed: 62.2min finished\n"
     ]
    },
    {
     "name": "stdout",
     "output_type": "stream",
     "text": [
      "-----\n",
      "Best parameters {'bootstrap': True, 'max_depth': 120, 'max_features': 5, 'min_samples_leaf': 2, 'min_samples_split': 8, 'n_estimators': 200}\n",
      "Mean cross-validated accuracy score of the best_estimator: 0.851\n",
      "{'cv': 5, 'error_score': nan, 'estimator__bootstrap': True, 'estimator__ccp_alpha': 0.0, 'estimator__criterion': 'mse', 'estimator__max_depth': None, 'estimator__max_features': 'auto', 'estimator__max_leaf_nodes': None, 'estimator__max_samples': None, 'estimator__min_impurity_decrease': 0.0, 'estimator__min_impurity_split': None, 'estimator__min_samples_leaf': 1, 'estimator__min_samples_split': 2, 'estimator__min_weight_fraction_leaf': 0.0, 'estimator__n_estimators': 100, 'estimator__n_jobs': None, 'estimator__oob_score': False, 'estimator__random_state': None, 'estimator__verbose': 0, 'estimator__warm_start': False, 'estimator': RandomForestRegressor(), 'iid': 'deprecated', 'n_jobs': -1, 'param_grid': {'bootstrap': [True], 'max_depth': [80, 90, 100, 110, 120, 130, 140, 150], 'max_features': [2, 3, 4, 5], 'min_samples_leaf': [2, 3, 4, 5], 'min_samples_split': [8, 10, 12], 'n_estimators': [10, 25, 50, 100, 200, 300, 1000]}, 'pre_dispatch': '2*n_jobs', 'refit': True, 'return_train_score': False, 'scoring': None, 'verbose': 2}\n",
      "-----\n"
     ]
    }
   ],
   "source": [
    "# train\n",
    "%time\n",
    "\n",
    "\n",
    "# Create the parameter grid based on the results of random search \n",
    "param_grid = {\n",
    "    'bootstrap': [True],\n",
    "    'max_depth': [80, 90, 100, 110,120,130,140,150],\n",
    "    'max_features': [2, 3,4,5],\n",
    "    'min_samples_leaf': [2, 3, 4, 5],\n",
    "    'min_samples_split': [8, 10, 12],\n",
    "    'n_estimators': [10, 25, 50, 100, 200, 300, 1000]\n",
    "}\n",
    "# Create a based model\n",
    "rf = RandomForestRegressor()\n",
    "# Instantiate the grid search model\n",
    "model_rf = GridSearchCV(estimator = rf, param_grid = param_grid, \n",
    "                          cv = 5, n_jobs = -1, verbose = 2)\n",
    "\n",
    "\n",
    "model_rf.fit(X_train, y_train)\n",
    "\n",
    "print('-----')\n",
    "print(f'Best parameters {model_rf.best_params_}')\n",
    "print(\n",
    "    f'Mean cross-validated accuracy score of the best_estimator: ' + \\\n",
    "    f'{model_rf.best_score_:.3f}'\n",
    ")\n",
    "print(model_rf.get_params())\n",
    "print('-----')\n"
   ]
  },
  {
   "cell_type": "code",
   "execution_count": 20,
   "metadata": {
    "execution": {
     "iopub.execute_input": "2020-11-02T18:28:38.208279Z",
     "iopub.status.busy": "2020-11-02T18:28:38.207278Z",
     "iopub.status.idle": "2020-11-02T18:28:45.462044Z",
     "shell.execute_reply": "2020-11-02T18:28:45.463099Z"
    },
    "papermill": {
     "duration": 7.333275,
     "end_time": "2020-11-02T18:28:45.463311",
     "exception": false,
     "start_time": "2020-11-02T18:28:38.130036",
     "status": "completed"
    },
    "tags": []
   },
   "outputs": [
    {
     "name": "stdout",
     "output_type": "stream",
     "text": [
      "Fitting 5 folds for each of 91 candidates, totalling 455 fits\n"
     ]
    },
    {
     "name": "stderr",
     "output_type": "stream",
     "text": [
      "[Parallel(n_jobs=-1)]: Using backend LokyBackend with 4 concurrent workers.\n",
      "[Parallel(n_jobs=-1)]: Done  33 tasks      | elapsed:    1.1s\n",
      "[Parallel(n_jobs=-1)]: Done 336 tasks      | elapsed:    6.3s\n"
     ]
    },
    {
     "name": "stdout",
     "output_type": "stream",
     "text": [
      "-----\n",
      "Best parameters {'alpha': 0.01, 'l1_ratio': 0.7}\n",
      "Mean cross-validated accuracy score of the best_estimator: 0.823\n",
      "{'cv': 5, 'error_score': nan, 'estimator__alpha': 1.0, 'estimator__copy_X': True, 'estimator__fit_intercept': True, 'estimator__l1_ratio': 0.5, 'estimator__max_iter': 1000, 'estimator__normalize': False, 'estimator__positive': False, 'estimator__precompute': False, 'estimator__random_state': None, 'estimator__selection': 'cyclic', 'estimator__tol': 0.0001, 'estimator__warm_start': False, 'estimator': ElasticNet(), 'iid': 'deprecated', 'n_jobs': -1, 'param_grid': {'alpha': [0.001, 0.01, 0.1, 1, 10, 100, 1000], 'l1_ratio': [0, 0.001, 0.01, 0.1, 0.2, 0.3, 0.4, 0.5, 0.6, 0.7, 0.8, 0.9, 1]}, 'pre_dispatch': '2*n_jobs', 'refit': True, 'return_train_score': False, 'scoring': None, 'verbose': 2}\n",
      "-----\n"
     ]
    },
    {
     "name": "stderr",
     "output_type": "stream",
     "text": [
      "[Parallel(n_jobs=-1)]: Done 455 out of 455 | elapsed:    7.2s finished\n"
     ]
    }
   ],
   "source": [
    "from sklearn.linear_model import ElasticNet\n",
    "# Create the parameter grid based on the results of random search \n",
    "param_grid = {'fit_intercept':[True,False], 'normalize':[True,False], 'copy_X':[True, False]}\n",
    "\n",
    "elastic_net = ElasticNet()\n",
    "\n",
    "# find optimal alpha with grid search\n",
    "alpha = [0.001, 0.01, 0.1, 1, 10, 100, 1000]\n",
    "l1_ratio = [0, 0.001,0.01, 0.1, 0.2, 0.3, 0.4, 0.5, 0.6, 0.7, 0.8, 0.9, 1]\n",
    "param_grid = dict(alpha=alpha, l1_ratio=l1_ratio)\n",
    "\n",
    "# Instantiate the grid search model\n",
    "model_glm = GridSearchCV(estimator = elastic_net, \n",
    "                   param_grid = param_grid, \n",
    "                    cv = 5, n_jobs = -1, verbose = 2)\n",
    "\n",
    "\n",
    "model_glm.fit(X_train, y_train)\n",
    "\n",
    "print('-----')\n",
    "print(f'Best parameters {model_glm.best_params_}')\n",
    "print(\n",
    "    f'Mean cross-validated accuracy score of the best_estimator: ' + \\\n",
    "    f'{model_glm.best_score_:.3f}'\n",
    ")\n",
    "print(model_glm.get_params())\n",
    "print('-----')"
   ]
  },
  {
   "cell_type": "code",
   "execution_count": 21,
   "metadata": {
    "execution": {
     "iopub.execute_input": "2020-11-02T18:28:45.601673Z",
     "iopub.status.busy": "2020-11-02T18:28:45.600550Z",
     "iopub.status.idle": "2020-11-02T18:30:18.617004Z",
     "shell.execute_reply": "2020-11-02T18:30:18.616223Z"
    },
    "papermill": {
     "duration": 93.090087,
     "end_time": "2020-11-02T18:30:18.617170",
     "exception": false,
     "start_time": "2020-11-02T18:28:45.527083",
     "status": "completed"
    },
    "tags": []
   },
   "outputs": [
    {
     "name": "stderr",
     "output_type": "stream",
     "text": [
      "[Parallel(n_jobs=-1)]: Using backend LokyBackend with 4 concurrent workers.\n"
     ]
    },
    {
     "name": "stdout",
     "output_type": "stream",
     "text": [
      "Fitting 5 folds for each of 20 candidates, totalling 100 fits\n"
     ]
    },
    {
     "name": "stderr",
     "output_type": "stream",
     "text": [
      "[Parallel(n_jobs=-1)]: Done  42 tasks      | elapsed:   38.1s\n",
      "[Parallel(n_jobs=-1)]: Done 100 out of 100 | elapsed:  1.5min finished\n"
     ]
    },
    {
     "name": "stdout",
     "output_type": "stream",
     "text": [
      "[18:30:17] WARNING: ../src/objective/regression_obj.cu:174: reg:linear is now deprecated in favor of reg:squarederror.\n",
      "[18:30:17] WARNING: ../src/learner.cc:516: \n",
      "Parameters: { silent } might not be used.\n",
      "\n",
      "  This may not be accurate due to some parameters are only used in language bindings but\n",
      "  passed down to XGBoost core.  Or some parameters are not used but slip through this\n",
      "  verification. Please open an issue if you find above cases.\n",
      "\n",
      "\n",
      "[18:30:18] WARNING: ../src/objective/regression_obj.cu:174: reg:linear is now deprecated in favor of reg:squarederror.\n",
      "-----\n",
      "Best parameters {'colsample_bytree': 0.7, 'learning_rate': 0.07, 'max_depth': 5, 'min_child_weight': 4, 'n_estimators': 500, 'objective': 'reg:linear', 'silent': 1, 'subsample': 0.7}\n",
      "Mean cross-validated accuracy score of the best_estimator: 0.896\n",
      "{'cv': 5, 'error_score': nan, 'estimator__objective': 'reg:squarederror', 'estimator__base_score': None, 'estimator__booster': None, 'estimator__colsample_bylevel': None, 'estimator__colsample_bynode': None, 'estimator__colsample_bytree': None, 'estimator__gamma': None, 'estimator__gpu_id': None, 'estimator__importance_type': 'gain', 'estimator__interaction_constraints': None, 'estimator__learning_rate': None, 'estimator__max_delta_step': None, 'estimator__max_depth': None, 'estimator__min_child_weight': None, 'estimator__missing': nan, 'estimator__monotone_constraints': None, 'estimator__n_estimators': 100, 'estimator__n_jobs': None, 'estimator__num_parallel_tree': None, 'estimator__random_state': None, 'estimator__reg_alpha': None, 'estimator__reg_lambda': None, 'estimator__scale_pos_weight': None, 'estimator__subsample': None, 'estimator__tree_method': None, 'estimator__validate_parameters': None, 'estimator__verbosity': None, 'estimator': XGBRegressor(base_score=None, booster=None, colsample_bylevel=None,\n",
      "             colsample_bynode=None, colsample_bytree=None, gamma=None,\n",
      "             gpu_id=None, importance_type='gain', interaction_constraints=None,\n",
      "             learning_rate=None, max_delta_step=None, max_depth=None,\n",
      "             min_child_weight=None, missing=nan, monotone_constraints=None,\n",
      "             n_estimators=100, n_jobs=None, num_parallel_tree=None,\n",
      "             random_state=None, reg_alpha=None, reg_lambda=None,\n",
      "             scale_pos_weight=None, subsample=None, tree_method=None,\n",
      "             validate_parameters=None, verbosity=None), 'iid': 'deprecated', 'n_jobs': -1, 'param_grid': {'objective': ['reg:linear'], 'learning_rate': [0.01, 0.03, 0.05, 0.07], 'max_depth': [3, 4, 5, 6, 7], 'min_child_weight': [4], 'silent': [1], 'subsample': [0.7], 'colsample_bytree': [0.7], 'n_estimators': [500]}, 'pre_dispatch': '2*n_jobs', 'refit': True, 'return_train_score': False, 'scoring': None, 'verbose': True}\n",
      "-----\n"
     ]
    }
   ],
   "source": [
    "# Various hyper-parameters to tune\n",
    "import xgboost as xgb\n",
    "from xgboost.sklearn import XGBRegressor\n",
    "xgb1 = XGBRegressor()\n",
    "parameters = {\n",
    "              'objective':['reg:linear'],\n",
    "              'learning_rate': [.01,.03, 0.05, .07], #so called `eta` value\n",
    "              'max_depth': [3,4,5, 6, 7],\n",
    "              'min_child_weight': [4],\n",
    "              'silent': [1],\n",
    "              'subsample': [0.7],\n",
    "              'colsample_bytree': [0.7],\n",
    "              'n_estimators': [500]}\n",
    "\n",
    "model_xgb = GridSearchCV(xgb1,\n",
    "                        parameters,\n",
    "                        cv = 5,\n",
    "                        n_jobs = -1,\n",
    "                        verbose=True)\n",
    "\n",
    "\n",
    "model_xgb.fit(X_train, y_train)\n",
    "\n",
    "print('-----')\n",
    "print(f'Best parameters {model_xgb.best_params_}')\n",
    "print(\n",
    "    f'Mean cross-validated accuracy score of the best_estimator: ' + \\\n",
    "    f'{model_xgb.best_score_:.3f}'\n",
    ")\n",
    "print(model_xgb.get_params())\n",
    "print('-----')"
   ]
  },
  {
   "cell_type": "markdown",
   "metadata": {
    "papermill": {
     "duration": 0.074981,
     "end_time": "2020-11-02T18:30:18.770559",
     "exception": false,
     "start_time": "2020-11-02T18:30:18.695578",
     "status": "completed"
    },
    "tags": []
   },
   "source": [
    "> ## 3.3 Create submission<a id=\"3.3\"></a>\n",
    "**convert prediction into exponent and export CSV file**"
   ]
  },
  {
   "cell_type": "markdown",
   "metadata": {
    "papermill": {
     "duration": 0.06254,
     "end_time": "2020-11-02T18:30:18.898502",
     "exception": false,
     "start_time": "2020-11-02T18:30:18.835962",
     "status": "completed"
    },
    "tags": []
   },
   "source": [
    "Here we are taking a look into the prediction on the training data:"
   ]
  },
  {
   "cell_type": "code",
   "execution_count": 22,
   "metadata": {
    "execution": {
     "iopub.execute_input": "2020-11-02T18:30:19.045838Z",
     "iopub.status.busy": "2020-11-02T18:30:19.044713Z",
     "iopub.status.idle": "2020-11-02T18:30:20.723554Z",
     "shell.execute_reply": "2020-11-02T18:30:20.724116Z"
    },
    "papermill": {
     "duration": 1.762137,
     "end_time": "2020-11-02T18:30:20.724285",
     "exception": false,
     "start_time": "2020-11-02T18:30:18.962148",
     "status": "completed"
    },
    "tags": []
   },
   "outputs": [
    {
     "data": {
      "text/plain": [
       "array([[<matplotlib.axes._subplots.AxesSubplot object at 0x7f3dc4d01650>,\n",
       "        <matplotlib.axes._subplots.AxesSubplot object at 0x7f3d8fe9ad50>,\n",
       "        <matplotlib.axes._subplots.AxesSubplot object at 0x7f3d9434b690>,\n",
       "        <matplotlib.axes._subplots.AxesSubplot object at 0x7f3d8ff03a10>],\n",
       "       [<matplotlib.axes._subplots.AxesSubplot object at 0x7f3d8ff5e610>,\n",
       "        <matplotlib.axes._subplots.AxesSubplot object at 0x7f3d8fe66410>,\n",
       "        <matplotlib.axes._subplots.AxesSubplot object at 0x7f3d8fe31c90>,\n",
       "        <matplotlib.axes._subplots.AxesSubplot object at 0x7f3d8fe95290>],\n",
       "       [<matplotlib.axes._subplots.AxesSubplot object at 0x7f3d8fe95fd0>,\n",
       "        <matplotlib.axes._subplots.AxesSubplot object at 0x7f3d8fd2fd10>,\n",
       "        <matplotlib.axes._subplots.AxesSubplot object at 0x7f3d8ff26b10>,\n",
       "        <matplotlib.axes._subplots.AxesSubplot object at 0x7f3d8fd51d50>],\n",
       "       [<matplotlib.axes._subplots.AxesSubplot object at 0x7f3d8fcca850>,\n",
       "        <matplotlib.axes._subplots.AxesSubplot object at 0x7f3d942daf10>,\n",
       "        <matplotlib.axes._subplots.AxesSubplot object at 0x7f3d8fe7b790>,\n",
       "        <matplotlib.axes._subplots.AxesSubplot object at 0x7f3d9557a950>]],\n",
       "      dtype=object)"
      ]
     },
     "execution_count": 22,
     "metadata": {},
     "output_type": "execute_result"
    },
    {
     "data": {
      "image/png": "[encoded data removed]",
      "text/plain": [
       "<Figure size 432x432 with 16 Axes>"
      ]
     },
     "metadata": {
      "needs_background": "light"
     },
     "output_type": "display_data"
    }
   ],
   "source": [
    "from pandas.plotting import scatter_matrix\n",
    "\n",
    "forest_train_pred = model_rf.predict(X_train)\n",
    "xgb_train_pred = model_xgb.predict(X_train)\n",
    "lgbm_train_pred = model_glm.predict(X_train)\n",
    "\n",
    "\n",
    "base_pred = pd.DataFrame({\n",
    "    'forest':forest_train_pred.ravel(), \n",
    "    'xgb':xgb_train_pred.ravel(), \n",
    "    'GLM': lgbm_train_pred.ravel(),\n",
    "    'data': y_train\n",
    "\n",
    "})\n",
    "scatter_matrix(base_pred, alpha=0.2, figsize=(6, 6), diagonal='kde')\n",
    "\n",
    "\n"
   ]
  },
  {
   "cell_type": "code",
   "execution_count": 23,
   "metadata": {
    "execution": {
     "iopub.execute_input": "2020-11-02T18:30:20.941687Z",
     "iopub.status.busy": "2020-11-02T18:30:20.940561Z",
     "iopub.status.idle": "2020-11-02T18:30:21.177874Z",
     "shell.execute_reply": "2020-11-02T18:30:21.178442Z"
    },
    "papermill": {
     "duration": 0.322543,
     "end_time": "2020-11-02T18:30:21.178610",
     "exception": false,
     "start_time": "2020-11-02T18:30:20.856067",
     "status": "completed"
    },
    "tags": []
   },
   "outputs": [
    {
     "data": {
      "image/png": "[encoded data removed]",
      "text/plain": [
       "<Figure size 432x288 with 2 Axes>"
      ]
     },
     "metadata": {
      "needs_background": "light"
     },
     "output_type": "display_data"
    }
   ],
   "source": [
    "g = sns.heatmap(base_pred.corr(),annot=True, fmt = \".3f\", cmap = \"coolwarm\" )"
   ]
  },
  {
   "cell_type": "code",
   "execution_count": 24,
   "metadata": {
    "execution": {
     "iopub.execute_input": "2020-11-02T18:30:21.321205Z",
     "iopub.status.busy": "2020-11-02T18:30:21.320301Z",
     "iopub.status.idle": "2020-11-02T18:30:21.325366Z",
     "shell.execute_reply": "2020-11-02T18:30:21.324731Z"
    },
    "papermill": {
     "duration": 0.078048,
     "end_time": "2020-11-02T18:30:21.325500",
     "exception": false,
     "start_time": "2020-11-02T18:30:21.247452",
     "status": "completed"
    },
    "tags": []
   },
   "outputs": [
    {
     "data": {
      "text/plain": [
       "array(['forest', 'xgb', 'GLM', 'data'], dtype=object)"
      ]
     },
     "execution_count": 24,
     "metadata": {},
     "output_type": "execute_result"
    }
   ],
   "source": [
    "base_pred.columns.values"
   ]
  },
  {
   "cell_type": "code",
   "execution_count": 25,
   "metadata": {
    "execution": {
     "iopub.execute_input": "2020-11-02T18:30:21.472810Z",
     "iopub.status.busy": "2020-11-02T18:30:21.471867Z",
     "iopub.status.idle": "2020-11-02T18:30:21.476023Z",
     "shell.execute_reply": "2020-11-02T18:30:21.475385Z"
    },
    "papermill": {
     "duration": 0.080794,
     "end_time": "2020-11-02T18:30:21.476163",
     "exception": false,
     "start_time": "2020-11-02T18:30:21.395369",
     "status": "completed"
    },
    "tags": []
   },
   "outputs": [],
   "source": [
    "base_pred = pd.DataFrame({\n",
    "    'forest':forest_train_pred.ravel(), \n",
    "    'xgb':xgb_train_pred.ravel(), \n",
    "    'GLM': lgbm_train_pred.ravel()\n",
    "})"
   ]
  },
  {
   "cell_type": "code",
   "execution_count": 26,
   "metadata": {
    "execution": {
     "iopub.execute_input": "2020-11-02T18:30:21.622431Z",
     "iopub.status.busy": "2020-11-02T18:30:21.620782Z",
     "iopub.status.idle": "2020-11-02T18:30:21.624299Z",
     "shell.execute_reply": "2020-11-02T18:30:21.623536Z"
    },
    "papermill": {
     "duration": 0.079675,
     "end_time": "2020-11-02T18:30:21.624476",
     "exception": false,
     "start_time": "2020-11-02T18:30:21.544801",
     "status": "completed"
    },
    "tags": []
   },
   "outputs": [],
   "source": [
    "def create_submission(model, X_test, test_house_id, model_name):\n",
    "    y_pred_test = model.predict(X_test)\n",
    "    submission = pd.DataFrame(\n",
    "        {\n",
    "            'Id': test_house_id, \n",
    "            'SalePrice': y_pred_test,\n",
    "        }\n",
    "    )\n",
    "    print(model_name)\n",
    "    print(submission.head())\n",
    "    submission.to_csv(f\"submission_{model_name}.csv\", index=False)\n",
    "    return submission"
   ]
  },
  {
   "cell_type": "code",
   "execution_count": 27,
   "metadata": {
    "execution": {
     "iopub.execute_input": "2020-11-02T18:30:21.781493Z",
     "iopub.status.busy": "2020-11-02T18:30:21.780375Z",
     "iopub.status.idle": "2020-11-02T18:30:22.276975Z",
     "shell.execute_reply": "2020-11-02T18:30:22.277862Z"
    },
    "papermill": {
     "duration": 0.581669,
     "end_time": "2020-11-02T18:30:22.278080",
     "exception": false,
     "start_time": "2020-11-02T18:30:21.696411",
     "status": "completed"
    },
    "tags": []
   },
   "outputs": [
    {
     "name": "stdout",
     "output_type": "stream",
     "text": [
      "glm\n",
      "     Id      SalePrice\n",
      "0  1461  110766.720831\n",
      "1  1462  150600.279385\n",
      "2  1463  170381.452114\n",
      "3  1464  187726.072339\n",
      "4  1465  189165.069195\n",
      "xgboost\n",
      "     Id      SalePrice\n",
      "0  1461  125123.835938\n",
      "1  1462  160215.156250\n",
      "2  1463  188872.765625\n",
      "3  1464  195702.953125\n",
      "4  1465  182716.156250\n",
      "rf\n",
      "     Id      SalePrice\n",
      "0  1461  128993.508475\n",
      "1  1462  151550.645071\n",
      "2  1463  183205.856601\n",
      "3  1464  187642.375970\n",
      "4  1465  194355.535793\n"
     ]
    }
   ],
   "source": [
    "# convert logarithms into exponent\n",
    "\n",
    "pred_glm = create_submission(model_glm, test[X_train.columns], test_id.values, 'glm')\n",
    "pred_xgboost = create_submission(model_xgb, test[X_train.columns], test_id.values, 'xgboost')\n",
    "pred_rf = create_submission(model_rf, test[X_train.columns], test_id.values, 'rf')\n",
    "\n"
   ]
  },
  {
   "cell_type": "code",
   "execution_count": 28,
   "metadata": {
    "execution": {
     "iopub.execute_input": "2020-11-02T18:30:22.459949Z",
     "iopub.status.busy": "2020-11-02T18:30:22.455864Z",
     "iopub.status.idle": "2020-11-02T18:30:22.620982Z",
     "shell.execute_reply": "2020-11-02T18:30:22.620157Z"
    },
    "papermill": {
     "duration": 0.258841,
     "end_time": "2020-11-02T18:30:22.621117",
     "exception": false,
     "start_time": "2020-11-02T18:30:22.362276",
     "status": "completed"
    },
    "tags": []
   },
   "outputs": [
    {
     "data": {
      "text/plain": [
       "<matplotlib.collections.PathCollection at 0x7f3d7b806c50>"
      ]
     },
     "execution_count": 28,
     "metadata": {},
     "output_type": "execute_result"
    },
    {
     "data": {
      "image/png": "[encoded data removed]",
      "text/plain": [
       "<Figure size 432x288 with 1 Axes>"
      ]
     },
     "metadata": {
      "needs_background": "light"
     },
     "output_type": "display_data"
    }
   ],
   "source": [
    "plt.scatter(pred_xgboost.SalePrice.values,pred_rf.SalePrice.values)"
   ]
  },
  {
   "cell_type": "markdown",
   "metadata": {
    "papermill": {
     "duration": 0.073041,
     "end_time": "2020-11-02T18:30:22.765426",
     "exception": false,
     "start_time": "2020-11-02T18:30:22.692385",
     "status": "completed"
    },
    "tags": []
   },
   "source": [
    "This notebook has a score of 0.13142 and is in the top 30%.<br>Based on this notebook, Feature engineering, Hyper-parameter tuning and ensemble will give you a better score."
   ]
  },
  {
   "cell_type": "code",
   "execution_count": 29,
   "metadata": {
    "execution": {
     "iopub.execute_input": "2020-11-02T18:30:22.918323Z",
     "iopub.status.busy": "2020-11-02T18:30:22.917304Z",
     "iopub.status.idle": "2020-11-02T18:30:22.922763Z",
     "shell.execute_reply": "2020-11-02T18:30:22.922080Z"
    },
    "papermill": {
     "duration": 0.087138,
     "end_time": "2020-11-02T18:30:22.922904",
     "exception": false,
     "start_time": "2020-11-02T18:30:22.835766",
     "status": "completed"
    },
    "tags": []
   },
   "outputs": [
    {
     "data": {
      "text/html": [
       "<div>\n",
       "<style scoped>\n",
       "    .dataframe tbody tr th:only-of-type {\n",
       "        vertical-align: middle;\n",
       "    }\n",
       "\n",
       "    .dataframe tbody tr th {\n",
       "        vertical-align: top;\n",
       "    }\n",
       "\n",
       "    .dataframe thead th {\n",
       "        text-align: right;\n",
       "    }\n",
       "</style>\n",
       "<table border=\"1\" class=\"dataframe\">\n",
       "  <thead>\n",
       "    <tr style=\"text-align: right;\">\n",
       "      <th></th>\n",
       "      <th>Id</th>\n",
       "      <th>SalePrice</th>\n",
       "    </tr>\n",
       "  </thead>\n",
       "  <tbody>\n",
       "    <tr>\n",
       "      <th>0</th>\n",
       "      <td>1461</td>\n",
       "      <td>125123.835938</td>\n",
       "    </tr>\n",
       "    <tr>\n",
       "      <th>1</th>\n",
       "      <td>1462</td>\n",
       "      <td>160215.156250</td>\n",
       "    </tr>\n",
       "    <tr>\n",
       "      <th>2</th>\n",
       "      <td>1463</td>\n",
       "      <td>188872.765625</td>\n",
       "    </tr>\n",
       "    <tr>\n",
       "      <th>3</th>\n",
       "      <td>1464</td>\n",
       "      <td>195702.953125</td>\n",
       "    </tr>\n",
       "    <tr>\n",
       "      <th>4</th>\n",
       "      <td>1465</td>\n",
       "      <td>182716.156250</td>\n",
       "    </tr>\n",
       "  </tbody>\n",
       "</table>\n",
       "</div>"
      ],
      "text/plain": [
       "     Id      SalePrice\n",
       "0  1461  125123.835938\n",
       "1  1462  160215.156250\n",
       "2  1463  188872.765625\n",
       "3  1464  195702.953125\n",
       "4  1465  182716.156250"
      ]
     },
     "execution_count": 29,
     "metadata": {},
     "output_type": "execute_result"
    }
   ],
   "source": [
    "pred_xgboost.head()"
   ]
  },
  {
   "cell_type": "markdown",
   "metadata": {
    "papermill": {
     "duration": 0.074097,
     "end_time": "2020-11-02T18:30:23.068934",
     "exception": false,
     "start_time": "2020-11-02T18:30:22.994837",
     "status": "completed"
    },
    "tags": []
   },
   "source": [
    "taking a look at correlation of prediction in the test set"
   ]
  },
  {
   "cell_type": "code",
   "execution_count": 30,
   "metadata": {
    "execution": {
     "iopub.execute_input": "2020-11-02T18:30:23.227016Z",
     "iopub.status.busy": "2020-11-02T18:30:23.226147Z",
     "iopub.status.idle": "2020-11-02T18:30:24.153311Z",
     "shell.execute_reply": "2020-11-02T18:30:24.152676Z"
    },
    "papermill": {
     "duration": 1.009963,
     "end_time": "2020-11-02T18:30:24.153461",
     "exception": false,
     "start_time": "2020-11-02T18:30:23.143498",
     "status": "completed"
    },
    "tags": []
   },
   "outputs": [
    {
     "data": {
      "text/plain": [
       "array([[<matplotlib.axes._subplots.AxesSubplot object at 0x7f3d94186b90>,\n",
       "        <matplotlib.axes._subplots.AxesSubplot object at 0x7f3d7b7fd490>,\n",
       "        <matplotlib.axes._subplots.AxesSubplot object at 0x7f3d7b7aeb10>],\n",
       "       [<matplotlib.axes._subplots.AxesSubplot object at 0x7f3d7b76d1d0>,\n",
       "        <matplotlib.axes._subplots.AxesSubplot object at 0x7f3d7b722850>,\n",
       "        <matplotlib.axes._subplots.AxesSubplot object at 0x7f3d7b6d8ed0>],\n",
       "       [<matplotlib.axes._subplots.AxesSubplot object at 0x7f3d7b69b610>,\n",
       "        <matplotlib.axes._subplots.AxesSubplot object at 0x7f3d7b64fbd0>,\n",
       "        <matplotlib.axes._subplots.AxesSubplot object at 0x7f3d7b64fc10>]],\n",
       "      dtype=object)"
      ]
     },
     "execution_count": 30,
     "metadata": {},
     "output_type": "execute_result"
    },
    {
     "data": {
      "image/png": "[encoded data removed]",
      "text/plain": [
       "<Figure size 432x432 with 9 Axes>"
      ]
     },
     "metadata": {
      "needs_background": "light"
     },
     "output_type": "display_data"
    }
   ],
   "source": [
    "from pandas.plotting import scatter_matrix\n",
    "test_pred = pd.concat([pred_xgboost.SalePrice,\n",
    "                         pred_rf.SalePrice, \n",
    "                         pred_glm.SalePrice], axis=1)\n",
    "test_pred.columns = ['xgboos', 'RF', 'GLM']\n",
    "scatter_matrix(test_pred, alpha=0.2, figsize=(6, 6), diagonal='kde')\n"
   ]
  },
  {
   "cell_type": "code",
   "execution_count": 31,
   "metadata": {
    "execution": {
     "iopub.execute_input": "2020-11-02T18:30:24.318750Z",
     "iopub.status.busy": "2020-11-02T18:30:24.317831Z",
     "iopub.status.idle": "2020-11-02T18:30:24.515159Z",
     "shell.execute_reply": "2020-11-02T18:30:24.514558Z"
    },
    "papermill": {
     "duration": 0.284071,
     "end_time": "2020-11-02T18:30:24.515289",
     "exception": false,
     "start_time": "2020-11-02T18:30:24.231218",
     "status": "completed"
    },
    "tags": []
   },
   "outputs": [
    {
     "data": {
      "image/png": "[encoded data removed]",
      "text/plain": [
       "<Figure size 432x288 with 2 Axes>"
      ]
     },
     "metadata": {
      "needs_background": "light"
     },
     "output_type": "display_data"
    }
   ],
   "source": [
    "g = sns.heatmap(test_pred.corr(),annot=True, fmt = \".3f\", cmap = \"coolwarm\" )"
   ]
  },
  {
   "cell_type": "markdown",
   "metadata": {
    "papermill": {
     "duration": 0.076463,
     "end_time": "2020-11-02T18:30:24.667026",
     "exception": false,
     "start_time": "2020-11-02T18:30:24.590563",
     "status": "completed"
    },
    "tags": []
   },
   "source": [
    "New prediction using ensemble of 3 different models predictions:"
   ]
  },
  {
   "cell_type": "code",
   "execution_count": 32,
   "metadata": {
    "execution": {
     "iopub.execute_input": "2020-11-02T18:30:24.821842Z",
     "iopub.status.busy": "2020-11-02T18:30:24.820950Z",
     "iopub.status.idle": "2020-11-02T18:30:24.825505Z",
     "shell.execute_reply": "2020-11-02T18:30:24.824746Z"
    },
    "papermill": {
     "duration": 0.08445,
     "end_time": "2020-11-02T18:30:24.825651",
     "exception": false,
     "start_time": "2020-11-02T18:30:24.741201",
     "status": "completed"
    },
    "tags": []
   },
   "outputs": [
    {
     "data": {
      "text/plain": [
       "(1460, 3)"
      ]
     },
     "execution_count": 32,
     "metadata": {},
     "output_type": "execute_result"
    }
   ],
   "source": [
    "base_pred.shape"
   ]
  },
  {
   "cell_type": "code",
   "execution_count": 33,
   "metadata": {
    "execution": {
     "iopub.execute_input": "2020-11-02T18:30:24.988211Z",
     "iopub.status.busy": "2020-11-02T18:30:24.987461Z",
     "iopub.status.idle": "2020-11-02T18:30:41.742242Z",
     "shell.execute_reply": "2020-11-02T18:30:41.741592Z"
    },
    "papermill": {
     "duration": 16.840045,
     "end_time": "2020-11-02T18:30:41.742490",
     "exception": false,
     "start_time": "2020-11-02T18:30:24.902445",
     "status": "completed"
    },
    "tags": []
   },
   "outputs": [
    {
     "name": "stdout",
     "output_type": "stream",
     "text": [
      "Fitting 5 folds for each of 32 candidates, totalling 160 fits\n"
     ]
    },
    {
     "name": "stderr",
     "output_type": "stream",
     "text": [
      "[Parallel(n_jobs=-1)]: Using backend LokyBackend with 4 concurrent workers.\n",
      "[Parallel(n_jobs=-1)]: Done  42 tasks      | elapsed:    4.8s\n",
      "[Parallel(n_jobs=-1)]: Done 160 out of 160 | elapsed:   16.2s finished\n"
     ]
    },
    {
     "name": "stdout",
     "output_type": "stream",
     "text": [
      "0.9971025203654665\n",
      "{'bootstrap': True, 'max_depth': 150, 'max_features': 3}\n",
      "RandomForestRegressor(max_depth=150, max_features=3)\n",
      "CPU times: user 1.51 s, sys: 46.2 ms, total: 1.56 s\n",
      "Wall time: 16.8 s\n"
     ]
    }
   ],
   "source": [
    "%%time\n",
    "# from sklearn.svm import SVR\n",
    "## SVR proved to be very slow\n",
    "\n",
    "# param = {'kernel' : ['linear'],\n",
    "#          'C' : [1,5,10],'degree' : [1,3,5],\n",
    "# #          'coef0' : [0.01,.1,1,10,0.5],\n",
    "#          'gamma' : ['auto','scale']},\n",
    "\n",
    "param_grid = {\n",
    "    'bootstrap': [True],\n",
    "    'max_depth': [80, 90, 100, 110,120,130,140,150],\n",
    "    'max_features': [2, 3,4,5]\n",
    "}\n",
    "# Create a based model\n",
    "rf = RandomForestRegressor()\n",
    "final_model = GridSearchCV(estimator = rf, param_grid = param_grid, \n",
    "                          cv = 5, n_jobs = -1, verbose = 1)\n",
    "\n",
    "final_model.fit(base_pred, y_train)\n",
    "\n",
    "print(final_model.best_score_)\n",
    "# print(accuracy_score(y_val, model_xgb.predict(X_val)))\n",
    "print(final_model.best_params_)\n",
    "print(final_model.best_estimator_)\n"
   ]
  },
  {
   "cell_type": "code",
   "execution_count": 34,
   "metadata": {
    "execution": {
     "iopub.execute_input": "2020-11-02T18:30:41.917307Z",
     "iopub.status.busy": "2020-11-02T18:30:41.916529Z",
     "iopub.status.idle": "2020-11-02T18:30:41.961119Z",
     "shell.execute_reply": "2020-11-02T18:30:41.960476Z"
    },
    "papermill": {
     "duration": 0.138686,
     "end_time": "2020-11-02T18:30:41.961259",
     "exception": false,
     "start_time": "2020-11-02T18:30:41.822573",
     "status": "completed"
    },
    "tags": []
   },
   "outputs": [],
   "source": [
    "final_pred = final_model.predict(test_pred)\n",
    "submission = pd.DataFrame(\n",
    "    { \n",
    "        'Id': test_id, \n",
    "        'SalePrice': final_pred\n",
    "    }\n",
    ")\n",
    "\n",
    "submission.to_csv(\"submission_final.csv\", index=False)"
   ]
  }
 ],
 "metadata": {
  "kernelspec": {
   "display_name": "Python 3",
   "language": "python",
   "name": "python3"
  },
  "language_info": {
   "codemirror_mode": {
    "name": "ipython",
    "version": 3
   },
   "file_extension": ".py",
   "mimetype": "text/x-python",
   "name": "python",
   "nbconvert_exporter": "python",
   "pygments_lexer": "ipython3",
   "version": "3.7.6"
  },
  "papermill": {
   "duration": 3870.279284,
   "end_time": "2020-11-02T18:30:42.154549",
   "environment_variables": {},
   "exception": null,
   "input_path": "__notebook__.ipynb",
   "output_path": "__notebook__.ipynb",
   "parameters": {},
   "start_time": "2020-11-02T17:26:11.875265",
   "version": "2.1.0"
  }
 },
 "nbformat": 4,
 "nbformat_minor": 4
}
